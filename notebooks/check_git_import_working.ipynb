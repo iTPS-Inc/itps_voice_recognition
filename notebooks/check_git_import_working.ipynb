{
 "cells": [
  {
   "cell_type": "code",
   "execution_count": 8,
   "id": "91be216c-8db6-49a0-acb2-d6a38ac1e43b",
   "metadata": {},
   "outputs": [
    {
     "name": "stdout",
     "output_type": "stream",
     "text": [
      "/home/jjs/proj/work/itps/itps_transcription_model\n"
     ]
    }
   ],
   "source": [
    "import os\n",
    "print(os.getcwd())\n",
    "os.chdir(\"/home/jjs/proj/work/itps\")"
   ]
  },
  {
   "cell_type": "code",
   "execution_count": 9,
   "id": "622c58db-c8a3-4c15-a327-9dac0b3c7292",
   "metadata": {},
   "outputs": [],
   "source": [
    "os.chdir(\"itps_transcription_model\")\n",
    "import dsets.dsets \n",
    "os.chdir(\"..\")"
   ]
  }
 ],
 "metadata": {
  "kernelspec": {
   "display_name": "fastaienv",
   "language": "python",
   "name": "fastaienv"
  },
  "language_info": {
   "codemirror_mode": {
    "name": "ipython",
    "version": 3
   },
   "file_extension": ".py",
   "mimetype": "text/x-python",
   "name": "python",
   "nbconvert_exporter": "python",
   "pygments_lexer": "ipython3",
   "version": "3.8.12"
  }
 },
 "nbformat": 4,
 "nbformat_minor": 5
}
