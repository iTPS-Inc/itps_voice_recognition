{
  "cells": [
    {
      "cell_type": "markdown",
      "metadata": {
        "id": "cdKgb73b3tET"
      },
      "source": [
        "# Setup"
      ]
    },
    {
      "cell_type": "code",
      "execution_count": null,
      "metadata": {
        "colab": {
          "base_uri": "https://localhost:8080/"
        },
        "id": "Rx5rhQrQENYO",
        "outputId": "b7cae23b-d033-4f39-8351-5f4c15185b99"
      },
      "outputs": [
        {
          "name": "stdout",
          "output_type": "stream",
          "text": [
            "Mounted at /content/drive\n"
          ]
        }
      ],
      "source": [
        "from google.colab import drive\n",
        "drive.mount('/content/drive')"
      ]
    },
    {
      "cell_type": "code",
      "execution_count": null,
      "metadata": {
        "colab": {
          "background_save": true
        },
        "id": "8Y_N_fnJbzjQ"
      },
      "outputs": [],
      "source": [
        "%%capture\n",
        "%%bash \n",
        "if [ -d itps_voice_recognition ]; then\n",
        "  cd itps_voice_recognition\n",
        "  git pull -r \n",
        "  cd ..\n",
        "else \n",
        "  git clone https://github.com/iTPS-Inc/itps_voice_recognition.git\n",
        "fi\n",
        "\n",
        "if [ ! -f installed ]; then \n",
        "\n",
        "\n",
        "pip install boto3\n",
        "pip install datasets==1.13.3\n",
        "pip install transformers==4.11.3\n",
        "pip install librosa\n",
        "pip install jiwer\n",
        "pip install sentencepiece\n",
        "pip install japanize_matplotlib\n",
        "pip install -Uqq fastai \n",
        "pip install neptune-client\n",
        "apt-get -q -y install mecab file libmecab-dev mecab-ipadic-utf8 git curl python-mecab\n",
        "git clone --depth 1 https://github.com/neologd/mecab-ipadic-neologd.git \n",
        "echo yes | mecab-ipadic-neologd/bin/install-mecab-ipadic-neologd -n  -y\n",
        "ln -s /etc/mecabrc /usr/local/etc/mecabrc\n",
        "pip install mecab-python3\n",
        "\n",
        "touch installed\n",
        "fi"
      ]
    },
    {
      "cell_type": "code",
      "execution_count": null,
      "metadata": {
        "colab": {
          "background_save": true
        },
        "id": "kvswE13cT9p4"
      },
      "outputs": [],
      "source": [
        "%load_ext autoreload\n",
        "%autoreload 2\n",
        "import os \n",
        "os.chdir(\"itps_voice_recognition\")\n",
        "from dsets.dsets import ENGLISH_DATASETS, get_datasets, JAPANESE_DATASETS\n",
        "from dsets.dset_config.dset_config import DatasetConfig\n",
        "\n",
        "from dsets.helpers.helpers import apply_parallel, get_sampling_rates\n",
        "from itpsaudio.transforms import * \n",
        "from itpsaudio.core import * \n",
        "os.chdir(\"..\")"
      ]
    },
    {
      "cell_type": "markdown",
      "metadata": {
        "id": "C4Tp-_lq3wLv"
      },
      "source": [
        "# Imports "
      ]
    },
    {
      "cell_type": "code",
      "execution_count": null,
      "metadata": {
        "colab": {
          "background_save": true
        },
        "id": "R3gvYVescNJa"
      },
      "outputs": [],
      "source": [
        "from fastai.data.all import * \n",
        "from transformers import Wav2Vec2FeatureExtractor, Wav2Vec2ForMaskedLM, AutoTokenizer, Wav2Vec2Processor, Wav2Vec2ForCTC\n",
        "from datasets import load_dataset\n",
        "from fastai.text.all import * \n",
        "from fastai.vision.all import *\n",
        "from fastai.callback.tensorboard import *\n",
        "import torchaudio\n",
        "from fastai.callback.neptune import NeptuneCallback\n",
        "import neptune \n",
        "import pandas\n",
        "import MeCab\n",
        "from pathlib import Path\n",
        "from IPython.display import Audio, display\n",
        "import japanize_matplotlib\n",
        "import jiwer\n",
        "import pickle\n",
        "from datasets import load_metric\n",
        "dset_lengths = None\n",
        "TEST_RUN=False"
      ]
    },
    {
      "cell_type": "code",
      "execution_count": null,
      "metadata": {
        "colab": {
          "background_save": true,
          "referenced_widgets": [
            "cb136d0bddcc4771962e346143cdf1fd",
            "cc34a5e37df54df899c1327c577230f4",
            "1b5868575d204dadaaec312846a32e86",
            "c9746d74d50c4d29a22c712f2981b189",
            "44b95b52f3784acdb0412b7990032211",
            "ac791c237c2d4392b1268833a5f1db38",
            "92f9e066848f4efcb85c01cc8230a717",
            "26b677c223a14e18b953a219be1520cd"
          ]
        },
        "id": "5AKNRs21mn2_",
        "outputId": "12b24039-441f-4233-aead-c30d90f69cd5"
      },
      "outputs": [
        {
          "data": {
            "application/vnd.jupyter.widget-view+json": {
              "model_id": "cb136d0bddcc4771962e346143cdf1fd",
              "version_major": 2,
              "version_minor": 0
            },
            "text/plain": [
              "Downloading:   0%|          | 0.00/4.44k [00:00<?, ?B/s]"
            ]
          },
          "metadata": {},
          "output_type": "display_data"
        },
        {
          "data": {
            "application/vnd.jupyter.widget-view+json": {
              "model_id": "cc34a5e37df54df899c1327c577230f4",
              "version_major": 2,
              "version_minor": 0
            },
            "text/plain": [
              "Downloading:   0%|          | 0.00/10.2k [00:00<?, ?B/s]"
            ]
          },
          "metadata": {},
          "output_type": "display_data"
        },
        {
          "name": "stdout",
          "output_type": "stream",
          "text": [
            "Downloading and preparing dataset common_voice/ja (download: 145.80 MiB, generated: 1.40 MiB, post-processed: Unknown size, total: 147.19 MiB) to /root/.cache/huggingface/datasets/common_voice/ja/6.1.0/f7a9d973839b7706e9e281c19b7e512f31badf3c0fdbd21c671f3c4bf9acf3b9...\n"
          ]
        },
        {
          "data": {
            "application/vnd.jupyter.widget-view+json": {
              "model_id": "1b5868575d204dadaaec312846a32e86",
              "version_major": 2,
              "version_minor": 0
            },
            "text/plain": [
              "Downloading:   0%|          | 0.00/153M [00:00<?, ?B/s]"
            ]
          },
          "metadata": {},
          "output_type": "display_data"
        },
        {
          "data": {
            "application/vnd.jupyter.widget-view+json": {
              "model_id": "c9746d74d50c4d29a22c712f2981b189",
              "version_major": 2,
              "version_minor": 0
            },
            "text/plain": [
              "0 examples [00:00, ? examples/s]"
            ]
          },
          "metadata": {},
          "output_type": "display_data"
        },
        {
          "data": {
            "application/vnd.jupyter.widget-view+json": {
              "model_id": "44b95b52f3784acdb0412b7990032211",
              "version_major": 2,
              "version_minor": 0
            },
            "text/plain": [
              "0 examples [00:00, ? examples/s]"
            ]
          },
          "metadata": {},
          "output_type": "display_data"
        },
        {
          "data": {
            "application/vnd.jupyter.widget-view+json": {
              "model_id": "ac791c237c2d4392b1268833a5f1db38",
              "version_major": 2,
              "version_minor": 0
            },
            "text/plain": [
              "0 examples [00:00, ? examples/s]"
            ]
          },
          "metadata": {},
          "output_type": "display_data"
        },
        {
          "data": {
            "application/vnd.jupyter.widget-view+json": {
              "model_id": "92f9e066848f4efcb85c01cc8230a717",
              "version_major": 2,
              "version_minor": 0
            },
            "text/plain": [
              "0 examples [00:00, ? examples/s]"
            ]
          },
          "metadata": {},
          "output_type": "display_data"
        },
        {
          "data": {
            "application/vnd.jupyter.widget-view+json": {
              "model_id": "26b677c223a14e18b953a219be1520cd",
              "version_major": 2,
              "version_minor": 0
            },
            "text/plain": [
              "0 examples [00:00, ? examples/s]"
            ]
          },
          "metadata": {},
          "output_type": "display_data"
        },
        {
          "name": "stdout",
          "output_type": "stream",
          "text": [
            "Dataset common_voice downloaded and prepared to /root/.cache/huggingface/datasets/common_voice/ja/6.1.0/f7a9d973839b7706e9e281c19b7e512f31badf3c0fdbd21c671f3c4bf9acf3b9. Subsequent calls will reuse this data.\n"
          ]
        }
      ],
      "source": [
        "df = load_dataset(\"common_voice\", \"ja\",split=\"train\")"
      ]
    },
    {
      "cell_type": "code",
      "execution_count": null,
      "metadata": {
        "colab": {
          "background_save": true
        },
        "id": "112nUUEs-Hps",
        "outputId": "679419fd-c587-480a-f136-95dc38f58ab3"
      },
      "outputs": [
        {
          "data": {
            "text/html": [
              "\n",
              "<style>\n",
              "    /* Turns off some styling */\n",
              "    progress {\n",
              "        /* gets rid of default border in Firefox and Opera. */\n",
              "        border: none;\n",
              "        /* Needs to be in here for Safari polyfill so background images work as expected. */\n",
              "        background-size: auto;\n",
              "    }\n",
              "    .progress-bar-interrupted, .progress-bar-interrupted::-webkit-progress-bar {\n",
              "        background: #F44336;\n",
              "    }\n",
              "</style>\n"
            ],
            "text/plain": [
              "<IPython.core.display.HTML object>"
            ]
          },
          "metadata": {},
          "output_type": "display_data"
        },
        {
          "data": {
            "text/html": [
              "\n",
              "    <div>\n",
              "      <progress value='2676195328' class='' max='2676191038' style='width:300px; height:20px; vertical-align: middle;'></progress>\n",
              "      100.00% [2676195328/2676191038 02:17<00:00]\n",
              "    </div>\n",
              "    "
            ],
            "text/plain": [
              "<IPython.core.display.HTML object>"
            ]
          },
          "metadata": {},
          "output_type": "display_data"
        },
        {
          "data": {
            "text/html": [
              "\n",
              "<style>\n",
              "    /* Turns off some styling */\n",
              "    progress {\n",
              "        /* gets rid of default border in Firefox and Opera. */\n",
              "        border: none;\n",
              "        /* Needs to be in here for Safari polyfill so background images work as expected. */\n",
              "        background-size: auto;\n",
              "    }\n",
              "    .progress-bar-interrupted, .progress-bar-interrupted::-webkit-progress-bar {\n",
              "        background: #F44336;\n",
              "    }\n",
              "</style>\n"
            ],
            "text/plain": [
              "<IPython.core.display.HTML object>"
            ]
          },
          "metadata": {},
          "output_type": "display_data"
        },
        {
          "data": {
            "text/html": [
              "\n",
              "    <div>\n",
              "      <progress value='3541426176' class='' max='3541421087' style='width:300px; height:20px; vertical-align: middle;'></progress>\n",
              "      100.00% [3541426176/3541421087 01:33<00:00]\n",
              "    </div>\n",
              "    "
            ],
            "text/plain": [
              "<IPython.core.display.HTML object>"
            ]
          },
          "metadata": {},
          "output_type": "display_data"
        }
      ],
      "source": [
        "datasets = JAPANESE_DATASETS[1:] # Don't include itps dataset for now\n",
        "p, df1 = get_datasets(datasets)"
      ]
    },
    {
      "cell_type": "code",
      "execution_count": null,
      "metadata": {
        "colab": {
          "background_save": true
        },
        "id": "vACewgsvnR1l"
      },
      "outputs": [],
      "source": [
        "df = pd.DataFrame({\"filename\": pd.Series(df[\"path\"]), \"text\": pd.Series(df[\"sentence\"])})"
      ]
    },
    {
      "cell_type": "code",
      "execution_count": null,
      "metadata": {
        "colab": {
          "background_save": true
        },
        "id": "hvHu3XXH-RME"
      },
      "outputs": [],
      "source": [
        "df = pd.concat([df, df1[[\"filename\", \"text\"]]], ignore_index=True)\n",
        "if TEST_RUN:\n",
        "  df = df.iloc[:100]"
      ]
    },
    {
      "cell_type": "markdown",
      "metadata": {
        "id": "f8_BG1HLB13f"
      },
      "source": [
        "# Model Training"
      ]
    },
    {
      "cell_type": "code",
      "execution_count": null,
      "metadata": {
        "colab": {
          "background_save": true
        },
        "id": "dnlO2egrBlIQ"
      },
      "outputs": [],
      "source": [
        "from functools import lru_cache\n",
        "@lru_cache(maxsize=None)\n",
        "def get_audio_length(s):\n",
        "  t, sr = torchaudio.load(s)\n",
        "  return len(t[0])/sr"
      ]
    },
    {
      "cell_type": "code",
      "execution_count": null,
      "metadata": {
        "colab": {
          "background_save": true
        },
        "id": "zAE1ytBlEyXk"
      },
      "outputs": [],
      "source": [
        "from transformers import Wav2Vec2CTCTokenizer\n",
        "jp_vocab = \"/content/drive/MyDrive/data/models/audio_jp/jp_vocab_file.json\"\n",
        "wav2vec2tok = Wav2Vec2CTCTokenizer(jp_vocab,\n",
        "                                   bos_token=\"[BOS]\",\n",
        "                                   eos_token=\"[EOS]\",\n",
        "                                   unk_token=\"[UNK]\",\n",
        "                                   )\n",
        "\n",
        "node_format_csv = r\"%f[7]|\"\n",
        "eos_format_csv  = r\"[EOS]\\n\"\n",
        "unk_format_csv = r\"%m|\"\n",
        "m = MeCab.Tagger(f\" --node-format='{node_format_csv}'\"+ \n",
        "                f\" --unk-format='{unk_format_csv}'\"+\n",
        "                f\" --eos-format='{eos_format_csv}'\"+\n",
        "                \" -d /usr/lib/x86_64-linux-gnu/mecab/dic/mecab-ipadic-neologd\"\n",
        "                )\n",
        "tok = JPTransformersTokenizer(wav2vec2tok, m)"
      ]
    },
    {
      "cell_type": "code",
      "execution_count": 12,
      "metadata": {
        "id": "KXeUdQh3ZTY6"
      },
      "outputs": [],
      "source": [
        "df[\"audio_length\"] = df[\"filename\"].apply(get_audio_length)"
      ]
    },
    {
      "cell_type": "code",
      "execution_count": 13,
      "metadata": {
        "id": "nBX_LknQaOc2",
        "colab": {
          "base_uri": "https://localhost:8080/"
        },
        "outputId": "f60dccf5-9f2f-4b4c-c0db-dd025a22cfa8"
      },
      "outputs": [
        {
          "output_type": "execute_result",
          "data": {
            "text/plain": [
              "18.6309375"
            ]
          },
          "metadata": {},
          "execution_count": 13
        }
      ],
      "source": [
        "df[\"audio_length\"].max()"
      ]
    },
    {
      "cell_type": "code",
      "execution_count": 14,
      "metadata": {
        "id": "-pdfNGqbNd8e",
        "colab": {
          "base_uri": "https://localhost:8080/",
          "height": 282
        },
        "outputId": "c90019a9-b117-4a09-a926-6b9761fe8e9b"
      },
      "outputs": [
        {
          "output_type": "execute_result",
          "data": {
            "text/plain": [
              "<matplotlib.axes._subplots.AxesSubplot at 0x7fa33b3d28d0>"
            ]
          },
          "metadata": {},
          "execution_count": 14
        },
        {
          "output_type": "display_data",
          "data": {
            "text/plain": [
              "<Figure size 432x288 with 1 Axes>"
            ],
            "image/png": "[encoded data removed]"
          },
          "metadata": {
            "needs_background": "light"
          }
        }
      ],
      "source": [
        "df[\"audio_length\"].plot.hist()"
      ]
    },
    {
      "cell_type": "code",
      "execution_count": 15,
      "metadata": {
        "id": "iszRTUd5NgLg",
        "colab": {
          "base_uri": "https://localhost:8080/"
        },
        "outputId": "352aed8b-7b86-4bb1-811c-c5f57991806c"
      },
      "outputs": [
        {
          "output_type": "execute_result",
          "data": {
            "text/plain": [
              "10.865605711805555"
            ]
          },
          "metadata": {},
          "execution_count": 15
        }
      ],
      "source": [
        "df[\"audio_length\"].sum() / 60 / 60"
      ]
    },
    {
      "cell_type": "code",
      "execution_count": 16,
      "metadata": {
        "id": "n01cjikkNkhD"
      },
      "outputs": [],
      "source": [
        "df = df[df[\"audio_length\"]<15].reset_index(drop=True)\n",
        "df = df[~df[\"text\"].isna()].reset_index(drop=True)"
      ]
    },
    {
      "cell_type": "code",
      "execution_count": 17,
      "metadata": {
        "id": "Xp4CogZ7UGV9",
        "colab": {
          "base_uri": "https://localhost:8080/"
        },
        "outputId": "9e62b733-052e-46e4-d7da-df58e7b58395"
      },
      "outputs": [
        {
          "output_type": "execute_result",
          "data": {
            "text/plain": [
              "10.847086006944444"
            ]
          },
          "metadata": {},
          "execution_count": 17
        }
      ],
      "source": [
        "df[\"audio_length\"].sum() / 60 / 60"
      ]
    },
    {
      "cell_type": "code",
      "execution_count": 18,
      "metadata": {
        "id": "Y9X4AKYsvU-z"
      },
      "outputs": [],
      "source": [
        "splits=RandomSplitter(valid_pct=0.2)(df)"
      ]
    },
    {
      "cell_type": "code",
      "execution_count": 19,
      "metadata": {
        "id": "TLo2z_B-q9Te"
      },
      "outputs": [],
      "source": [
        "pretrained_model_name = \"facebook/wav2vec2-xls-r-300m\"\n",
        "pretrained_model_name = \"facebook/hubert-large-ll60k\"\n",
        "tfms = TfmdLists(df, AudioBatchTransform(), splits=splits)"
      ]
    },
    {
      "cell_type": "code",
      "execution_count": 20,
      "metadata": {
        "id": "OpCOe-3UBtXM",
        "colab": {
          "base_uri": "https://localhost:8080/",
          "height": 117,
          "referenced_widgets": [
            "29fedfe0b572455b8775cb952252a280",
            "591c510653994b8c9818915b6ea25720",
            "9431a63e0f294d87bbe46bff2d8b1e27",
            "c3e5c4acbfc64087a1982d19bb1c23c5",
            "d808da9454554973bef9c1b099155ff2",
            "d45c80f91e404276acdba7f1458c7a14",
            "f91dca4457184b9db77dd3cde9495b1e",
            "442a9dcef89c4ae58ae28627d53eab9a",
            "b463ea37478a410ebad6bfb6b04f6429",
            "2977b65cc6d1427196e511be9694382b",
            "4dc0714d31384970946eb68a95187227",
            "912937983f494749a0acb893dd967f26",
            "d68e675382f04f519bc0eaed22e0794b",
            "b7a40ac23e7c4197a07f71bccdd95dc2",
            "2b55df7b300446ea8cde2fa4ce987225",
            "fdefad84928e4c6fb88a69b20607f277",
            "d5ce0e32dfe34b8586e3fac48d8ad549",
            "97311fc7478c4c369e620c0776f4141d",
            "09a5182790214a788b649e935de7e9b0",
            "52c5e85232894d559ce7a549b14e5c62",
            "90f70d91f15b4f788a5982e5dfe9e7ab",
            "c968fd164cd9406e95c258dffd503ebc"
          ]
        },
        "outputId": "a914056b-8a7f-4fe1-a14c-017c6cd8675e"
      },
      "outputs": [
        {
          "output_type": "display_data",
          "data": {
            "text/plain": [
              "Downloading:   0%|          | 0.00/1.56k [00:00<?, ?B/s]"
            ],
            "application/vnd.jupyter.widget-view+json": {
              "version_major": 2,
              "version_minor": 0,
              "model_id": "29fedfe0b572455b8775cb952252a280"
            }
          },
          "metadata": {}
        },
        {
          "output_type": "display_data",
          "data": {
            "text/plain": [
              "Downloading:   0%|          | 0.00/1.18G [00:00<?, ?B/s]"
            ],
            "application/vnd.jupyter.widget-view+json": {
              "version_major": 2,
              "version_minor": 0,
              "model_id": "912937983f494749a0acb893dd967f26"
            }
          },
          "metadata": {}
        },
        {
          "output_type": "stream",
          "name": "stderr",
          "text": [
            "Some weights of HubertForCTC were not initialized from the model checkpoint at facebook/hubert-large-ll60k and are newly initialized: ['lm_head.weight', 'lm_head.bias']\n",
            "You should probably TRAIN this model on a down-stream task to be able to use it for predictions and inference.\n"
          ]
        }
      ],
      "source": [
        "from transformers import AutoModelForCTC\n",
        "model = AutoModelForCTC.from_pretrained(\n",
        "    # \"/content/drive/MyDrive/data/models/audio_jp/\",\n",
        "    pretrained_model_name,\n",
        "    attention_dropout=0.08,\n",
        "    hidden_dropout=0.08,\n",
        "    feat_proj_dropout=0.08,\n",
        "    mask_time_prob=0.05,\n",
        "    mask_feature_prob=0.05,\n",
        "    layerdrop=0.08,\n",
        "    # ctc_loss_reduction=\"mean\", \n",
        "    ctc_zero_infinity=True,\n",
        "    pad_token_id=tok.tokenizer.pad_token_id,\n",
        "    vocab_size=len(tok.tokenizer),\n",
        ").cuda()"
      ]
    },
    {
      "cell_type": "code",
      "execution_count": null,
      "metadata": {
        "id": "0tiMKH5Yzga9"
      },
      "outputs": [],
      "source": [
        "from functools import lru_cache\n",
        "\n",
        "@lru_cache(maxsize=None)\n",
        "def get_sr(x):\n",
        "    _, sr=torchaudio.load(x)\n",
        "    return sr\n",
        "\n",
        "if not \"sr\" in df.columns:\n",
        "  df[\"sr\"] = df[\"filename\"].apply(get_sr)\n"
      ]
    },
    {
      "cell_type": "code",
      "execution_count": null,
      "metadata": {
        "id": "9I2G3CcfzxSY"
      },
      "outputs": [],
      "source": [
        "df[\"sr\"].unique()"
      ]
    },
    {
      "cell_type": "code",
      "execution_count": null,
      "metadata": {
        "id": "4h-9Y9m0jhDP"
      },
      "outputs": [],
      "source": [
        "SAMPLE_NOISE_URL = \"https://pytorch-tutorial-assets.s3.amazonaws.com/VOiCES_devkit/distant-16k/distractors/rm1/babb/Lab41-SRI-VOiCES-rm1-babb-mc01-stu-clo.wav\"\n",
        "\n",
        "with open(\"noise_sample.wav\", \"wb\") as f:\n",
        "    r = requests.get(SAMPLE_NOISE_URL)\n",
        "    f.write(r.content)\n",
        "\n",
        "noise, sr = torchaudio.load(\"noise_sample.wav\")\n",
        "noise = TensorAudio(noise, sr=sr)\n",
        "\n",
        "\n",
        "class Range():\n",
        "  def __init__(self, start, stop):\n",
        "    self.start, self.stop = start, stop"
      ]
    },
    {
      "cell_type": "code",
      "execution_count": null,
      "metadata": {
        "id": "yF_z5KpBxJ9i"
      },
      "outputs": [],
      "source": [
        "import torchaudio.transforms as T\n",
        "from itpsaudio.aug_transforms import AddNoise, RandomReverbration\n",
        "from itpsaudio.callbacks import MixedPrecisionTransformers\n",
        "train_text_lens = df.loc[splits[0], \"audio_length\"].to_list()\n",
        "val_text_lens = df.loc[splits[1], \"audio_length\"].to_list()\n",
        "srtd_dl=partial(SortedDL, res = train_text_lens)\n",
        "dl_kwargs = [{},{'val_res': val_text_lens}]\n",
        "\n",
        "resampler = dict()\n",
        "resampler[48000] = T.Resample(48000, 16000)\n",
        "resampler[16000] = noop\n",
        "for sr in df[\"sr\"].unique():\n",
        "    resampler[int(sr)] = T.Resample(sr, 16000)\n",
        "\n",
        "@Transform\n",
        "def resample(x: TensorAudio):\n",
        "    sr = x.sr\n",
        "    if not sr in resampler.keys():\n",
        "        resampler[sr] = T.Resample(sr, 16000)\n",
        "    return TensorAudio(resampler[sr](x), sr=16000)\n",
        "\n",
        "noise_add = AddNoise(Range(5, 10), noise,power=3, p=0.2)\n",
        "\n",
        "\n",
        "\n",
        "\n",
        "dls = tfms.dataloaders(bs=2,\n",
        "                        after_item=[RandomReverbration(p=0.1),\n",
        "                        # noise_addS,\n",
        "                                    resample, tok],\n",
        "                        before_batch=[Pad_Audio_Batch(pad_idx_audio=0,\n",
        "                                                      pad_idx_text=-100,\n",
        "                                                      pad_first=False,\n",
        "                                                      seq_len=1),\n",
        "                                       squeeze,\n",
        "                                      ],\n",
        "                        shuffle=True,\n",
        "                        n_inp=1,\n",
        "                        dl_type=srtd_dl,\n",
        "                        dl_kwargs=dl_kwargs\n",
        "                       )"
      ]
    },
    {
      "cell_type": "code",
      "execution_count": null,
      "metadata": {
        "id": "KEy2H6jK__WI"
      },
      "outputs": [],
      "source": [
        "dls.one_batch()"
      ]
    },
    {
      "cell_type": "code",
      "execution_count": null,
      "metadata": {
        "id": "sHi-iQQ0I79k"
      },
      "outputs": [],
      "source": [
        "dls.show_batch(tok=tok, unique=False)"
      ]
    },
    {
      "cell_type": "code",
      "execution_count": null,
      "metadata": {
        "id": "qkHF9usWBGlK"
      },
      "outputs": [],
      "source": [
        "def wer(pred, labels):\n",
        "    pred_logits = pred.logits\n",
        "    pred_ids = np.argmax(pred_logits.detach().cpu().numpy(), axis=-1)\n",
        "    pred_str = tok.batch_decode(pred_ids)\n",
        "    label_str = tok.batch_decode(labels)\n",
        "    wer = jiwer.wer(label_str, pred_str)\n",
        "    return wer\n",
        "\n",
        "def cer(pred, labels):\n",
        "    pred_logits = pred.logits\n",
        "    pred_ids = np.argmax(pred_logits.detach().cpu().numpy(), axis=-1)\n",
        "    pred_str = tok.batch_decode(pred_ids)\n",
        "    label_str = tok.batch_decode(labels)\n",
        "    cer = jiwer.cer(label_str, pred_str)\n",
        "    return cer\n",
        "\n",
        "\n",
        "class TransformersLearner(Learner):\n",
        "    def _do_one_batch(self):\n",
        "        self.pred = self.model(self.xb[0], labels=cast(self.yb[0], torch.Tensor))\n",
        "        self('after_pred')\n",
        "        self.loss_grad = self.pred[\"loss\"]\n",
        "        self.loss = self.loss_grad.clone()\n",
        "        self.smooth_loss = self.loss_grad.clone()\n",
        "        self('after_loss')\n",
        "        if not self.training or not len(self.yb): return\n",
        "        self('before_backward')\n",
        "        self.loss_grad.backward()\n",
        "        self._with_events(self.opt.step, 'step', CancelStepException)\n",
        "        self.opt.zero_grad()"
      ]
    },
    {
      "cell_type": "code",
      "execution_count": null,
      "metadata": {
        "id": "mhfNIZKFchw_"
      },
      "outputs": [],
      "source": [
        "%env NEPTUNE_API_TOKEN='eyJhcGlfYWRkcmVzcyI6Imh0dHBzOi8vYXBwLm5lcHR1bmUuYWkiLCJhcGlfdXJsIjoiaHR0cHM6Ly9hcHAubmVwdHVuZS5haSIsImFwaV9rZXkiOiI1YjMyZmIzZS0zNTEyLTQwNmMtYjUxNy05ZWI5NGY1MjQxMDYifQ=='"
      ]
    },
    {
      "cell_type": "code",
      "execution_count": 29,
      "metadata": {
        "id": "crYUi4qEfWG2"
      },
      "outputs": [],
      "source": [
        "logdir = Path(\"/content/drive/MyDrive/data/logs/audio_jp/hubert\")\n",
        "modelpath=Path(\"/content/drive/MyDrive/data/models/\")\n",
        "\n",
        "neptune.init(\"jjs/itps-language-model\")\n",
        "\n",
        "cbs=[TensorBoardCallback(log_dir=logdir,trace_model=False,log_preds=False),\n",
        "     SaveModelCallback(comp=np.less,\n",
        "                       monitor=\"cer\",\n",
        "                       fname=Path(modelpath/ \"audio_jp\"/\"hubert\")), \n",
        "      MixedPrecisionTransformers(),\n",
        "     ]\n",
        "\n",
        "metrics = [Perplexity(), wer,cer]\n",
        "learn = TransformersLearner(dls, model,\n",
        "                loss_func=noop, # Loss is calculated in Transformers internally\n",
        "                metrics=metrics,\n",
        "                cbs=cbs)"
      ]
    },
    {
      "cell_type": "code",
      "execution_count": null,
      "metadata": {
        "id": "7J_-jI8hIdNo"
      },
      "outputs": [],
      "source": [
        "import gc\n",
        "torch.cuda.empty_cache()\n",
        "gc.collect()"
      ]
    },
    {
      "cell_type": "code",
      "execution_count": 31,
      "metadata": {
        "id": "grkFJSDqdY0h",
        "colab": {
          "base_uri": "https://localhost:8080/",
          "height": 340
        },
        "outputId": "ab58e037-d95c-4900-f642-e38946e96efc"
      },
      "outputs": [
        {
          "output_type": "display_data",
          "data": {
            "text/plain": [
              "<IPython.core.display.HTML object>"
            ],
            "text/html": [
              "\n",
              "<style>\n",
              "    /* Turns off some styling */\n",
              "    progress {\n",
              "        /* gets rid of default border in Firefox and Opera. */\n",
              "        border: none;\n",
              "        /* Needs to be in here for Safari polyfill so background images work as expected. */\n",
              "        background-size: auto;\n",
              "    }\n",
              "    .progress-bar-interrupted, .progress-bar-interrupted::-webkit-progress-bar {\n",
              "        background: #F44336;\n",
              "    }\n",
              "</style>\n"
            ]
          },
          "metadata": {}
        },
        {
          "output_type": "display_data",
          "data": {
            "text/plain": [
              "<IPython.core.display.HTML object>"
            ],
            "text/html": [
              ""
            ]
          },
          "metadata": {}
        },
        {
          "output_type": "stream",
          "name": "stderr",
          "text": [
            "/usr/local/lib/python3.7/dist-packages/torch/_tensor.py:1142: UserWarning: __floordiv__ is deprecated, and its behavior will change in a future version of pytorch. It currently rounds toward 0 (like the 'trunc' function NOT 'floor'). This results in incorrect rounding for negative values. To keep the current behavior, use torch.div(a, b, rounding_mode='trunc'), or for actual floor division, use torch.div(a, b, rounding_mode='floor').\n",
            "  ret = func(*args, **kwargs)\n"
          ]
        },
        {
          "output_type": "display_data",
          "data": {
            "text/plain": [
              "<Figure size 432x288 with 1 Axes>"
            ],
            "image/png": "[encoded data removed]"
          },
          "metadata": {
            "needs_background": "light"
          }
        }
      ],
      "source": [
        "start_lr=1e-7\n",
        "end_lr=10\n",
        "r = learn.lr_find(start_lr=start_lr,\n",
        "                  end_lr=end_lr,\n",
        "                  num_it=100,\n",
        "                  stop_div=True,\n",
        "                  suggest_funcs=())"
      ]
    },
    {
      "cell_type": "code",
      "execution_count": null,
      "metadata": {
        "colab": {
          "background_save": true,
          "base_uri": "https://localhost:8080/",
          "height": 236
        },
        "id": "yQi7Np5WZbE0",
        "outputId": "d551e4ce-88ac-4461-f22b-8506793015d2"
      },
      "outputs": [
        {
          "output_type": "stream",
          "name": "stdout",
          "text": [
            "https://app.neptune.ai/jjs/itps-language-model/e/IT-83\n"
          ]
        },
        {
          "output_type": "display_data",
          "data": {
            "text/plain": [
              "<IPython.core.display.HTML object>"
            ],
            "text/html": [
              "\n",
              "<style>\n",
              "    /* Turns off some styling */\n",
              "    progress {\n",
              "        /* gets rid of default border in Firefox and Opera. */\n",
              "        border: none;\n",
              "        /* Needs to be in here for Safari polyfill so background images work as expected. */\n",
              "        background-size: auto;\n",
              "    }\n",
              "    .progress-bar-interrupted, .progress-bar-interrupted::-webkit-progress-bar {\n",
              "        background: #F44336;\n",
              "    }\n",
              "</style>\n"
            ]
          },
          "metadata": {}
        },
        {
          "output_type": "display_data",
          "data": {
            "text/plain": [
              "<IPython.core.display.HTML object>"
            ],
            "text/html": [
              "\n",
              "    <div>\n",
              "      <progress value='1' class='' max='20' style='width:300px; height:20px; vertical-align: middle;'></progress>\n",
              "      5.00% [1/20 16:45<5:18:19]\n",
              "    </div>\n",
              "    \n",
              "<table border=\"1\" class=\"dataframe\">\n",
              "  <thead>\n",
              "    <tr style=\"text-align: left;\">\n",
              "      <th>epoch</th>\n",
              "      <th>train_loss</th>\n",
              "      <th>valid_loss</th>\n",
              "      <th>perplexity</th>\n",
              "      <th>wer</th>\n",
              "      <th>cer</th>\n",
              "      <th>time</th>\n",
              "    </tr>\n",
              "  </thead>\n",
              "  <tbody>\n",
              "    <tr>\n",
              "      <td>0</td>\n",
              "      <td>392.027191</td>\n",
              "      <td>333.178894</td>\n",
              "      <td>inf</td>\n",
              "      <td>0.902231</td>\n",
              "      <td>0.774884</td>\n",
              "      <td>16:32</td>\n",
              "    </tr>\n",
              "  </tbody>\n",
              "</table><p>\n",
              "\n",
              "    <div>\n",
              "      <progress value='1715' class='' max='3062' style='width:300px; height:20px; vertical-align: middle;'></progress>\n",
              "      56.01% [1715/3062 07:00<05:30 325.2372]\n",
              "    </div>\n",
              "    "
            ]
          },
          "metadata": {}
        },
        {
          "output_type": "stream",
          "name": "stderr",
          "text": [
            "/usr/local/lib/python3.7/dist-packages/torch/_tensor.py:1142: UserWarning: __floordiv__ is deprecated, and its behavior will change in a future version of pytorch. It currently rounds toward 0 (like the 'trunc' function NOT 'floor'). This results in incorrect rounding for negative values. To keep the current behavior, use torch.div(a, b, rounding_mode='trunc'), or for actual floor division, use torch.div(a, b, rounding_mode='floor').\n",
            "  ret = func(*args, **kwargs)\n",
            "Invalid metric value: inf for channel epoch__perplexity. Metrics with nan or +/-inf values will not be sent to server\n"
          ]
        },
        {
          "output_type": "stream",
          "name": "stdout",
          "text": [
            "Better model found at epoch 0 with cer value: 0.7748836529315271.\n"
          ]
        }
      ],
      "source": [
        "model.freeze_feature_extractor()\n",
        "if TEST_RUN:\n",
        "  learn.fit_one_cycle(1, lr_max=1e-4)\n",
        "else:\n",
        "  neptune.create_experiment()\n",
        "  learn.fit(20, cbs=[NeptuneCallback(log_model_weights=False), ParamScheduler({\"lr\": SchedExp(1e-3, 1e-4)})] )\n",
        "  learn.save(\"/content/drive/MyDrive/data/models/hubert_cp_jp_learn\",\n",
        "            with_opt=True)\n",
        "  learn.model.save_pretrained(\"/content/drive/MyDrive/data/models/hubert_cp_jp\")\n",
        "  with open(\"/content/drive/MyDrive/data/models/hubert_cp_jp/tok.pkl\", \"wb\") as f:\n",
        "    pickle.dump(tok.tokenizer, f)\n"
      ]
    },
    {
      "cell_type": "code",
      "execution_count": null,
      "metadata": {
        "id": "tLL0k-LRXgVi"
      },
      "outputs": [],
      "source": [
        "if TEST_RUN:\n",
        "  learn.fit_one_cycle(1, lr_max=1e-4)\n",
        "else:\n",
        "  neptune.create_experiment()\n",
        "  learn.fit(10, cbs=[NeptuneCallback(log_model_weights=False), ParamScheduler({\"lr\": SchedExp(1e-3, 1e-4)})] )\n",
        "  learn.save(\"/content/drive/MyDrive/data/models/hubert_cp_jp_learn\",\n",
        "            with_opt=True)\n",
        "  learn.model.save_pretrained(\"/content/drive/MyDrive/data/models/hubert_cp_jp\")\n",
        "  with open(\"/content/drive/MyDrive/data/models/hubert_cp_jp/tok.pkl\", \"wb\") as f:\n",
        "    pickle.dump(tok.tokenizer, f)"
      ]
    },
    {
      "cell_type": "code",
      "execution_count": null,
      "metadata": {
        "id": "MqkDSUf8NezO"
      },
      "outputs": [],
      "source": [
        "test_datasets = [DatasetConfig(name='jsut', split='test', lang=None, kind=None),\n",
        "                DatasetConfig(name='nict_spreds', split='test', lang='jp', kind=None)]\n",
        "tp, tdf = get_datasets(test_datasets)"
      ]
    },
    {
      "cell_type": "code",
      "execution_count": null,
      "metadata": {
        "id": "cyo6ouPURXFJ"
      },
      "outputs": [],
      "source": [
        "tdf[\"audio_length\"] = apply_parallel(tdf[\"filename\"], get_audio_length, 16)\n",
        "tdf = tdf[tdf[\"audio_length\"]<15].reset_index(drop=True)\n",
        "tdf = tdf[~tdf[\"text\"].isna()].reset_index(drop=True)\n",
        "\n",
        "abt = AudioBatchTransform()\n",
        "t_tfms = TfmdLists(tdf, abt)"
      ]
    },
    {
      "cell_type": "code",
      "execution_count": null,
      "metadata": {
        "id": "iDpG1rPcO-Le"
      },
      "outputs": [],
      "source": [
        "if TEST_RUN:\n",
        "  t_tfms = TfmdLists(tdf.iloc[:100], abt)\n",
        "else:\n",
        "  t_tfms = TfmdLists(tdf, abt)"
      ]
    },
    {
      "cell_type": "code",
      "execution_count": null,
      "metadata": {
        "id": "CuPP6EskPSrp"
      },
      "outputs": [],
      "source": [
        "t_dl = dls.new(t_tfms)"
      ]
    },
    {
      "cell_type": "code",
      "execution_count": null,
      "metadata": {
        "id": "MNMDDctDmGQy"
      },
      "outputs": [],
      "source": [
        "learn.cbs"
      ]
    },
    {
      "cell_type": "code",
      "execution_count": null,
      "metadata": {
        "id": "CeVwjDSkQEdp"
      },
      "outputs": [],
      "source": [
        "learn.remove_cb(learn.cbs[4]).validate(dl=t_dl)"
      ]
    },
    {
      "cell_type": "code",
      "execution_count": null,
      "metadata": {
        "id": "38SVKJLjlc2J"
      },
      "outputs": [],
      "source": [
        "import pprint\n",
        "def get_preds(xs):\n",
        "  preds=learn.model(xs)\n",
        "  pred_logits=preds.logits\n",
        "  pred_ids=TensorText(np.argmax(pred_logits.detach().cpu().numpy(), axis=-1))\n",
        "  pred_str = tok.batch_decode(pred_ids)\n",
        "  return pred_str\n",
        "  \n",
        "for xs, y in iter(t_dl):\n",
        "  print(wer(learn.model(xs), y))\n",
        "  print(cer(learn.model(xs), y))\n",
        "  pprint.pprint(dict(enumerate(list(zip(get_preds(xs), tok.batch_decode(y))))))\n",
        "  break\n"
      ]
    },
    {
      "cell_type": "code",
      "execution_count": null,
      "metadata": {
        "id": "LHEWuDkhqH4Q"
      },
      "outputs": [],
      "source": [
        "comp = [(get_preds(xs), tok.batch_decode(y)) for xs, y in iter(t_dl)]"
      ]
    },
    {
      "cell_type": "code",
      "execution_count": null,
      "metadata": {
        "id": "tH8CW6ZcxGhC"
      },
      "outputs": [],
      "source": [
        "for i, (x_pair, y_pair) in enumerate(comp):\n",
        "  print(\"Pred: \", x_pair[0])\n",
        "  print(\"Targ: \", y_pair[0])\n",
        "  print(\"Pred: \", x_pair[1])\n",
        "  print(\"Targ: \", y_pair[1])\n",
        "  if (i+1 % 10) == 0:\n",
        "    break\n"
      ]
    },
    {
      "cell_type": "code",
      "execution_count": null,
      "metadata": {
        "id": "VdjGGhrVNHc5"
      },
      "outputs": [],
      "source": [
        "if not TEST_RUN:\n",
        "  modelpath = Path(\"/content/drive/MyDrive/data/models/audio_jp/hubert/\")\n",
        "  if not os.path.exists(modelpath):\n",
        "    os.mkdir(modelpath)\n",
        "  learn.save(modelpath / \"export_hubert\")\n",
        "  learn.model.save_pretrained(modelpath / \"hubert_ft\")\n",
        "  with open(modelpath / \"hubert_ft\" / \"tok.pkl\", \"wb\") as f:\n",
        "    pickle.dump(tok.tokenizer, f)\n",
        "  torch.save(learn.model, str(modelpath / \"export_torch_model.pth\"))"
      ]
    },
    {
      "cell_type": "code",
      "execution_count": null,
      "metadata": {
        "id": "IkmgPfnrxkM1"
      },
      "outputs": [],
      "source": [
        "neptune.stop()\n"
      ]
    },
    {
      "cell_type": "code",
      "execution_count": null,
      "metadata": {
        "id": "kZfjjj_0RWxM"
      },
      "outputs": [],
      "source": [
        ""
      ]
    }
  ],
  "metadata": {
    "accelerator": "GPU",
    "colab": {
      "background_execution": "on",
      "collapsed_sections": [],
      "name": "japanese_from_scratch.ipynb",
      "provenance": []
    },
    "kernelspec": {
      "display_name": "Python 3",
      "name": "python3"
    },
    "language_info": {
      "name": "python"
    },
    "widgets": {
      "application/vnd.jupyter.widget-state+json": {
        "29fedfe0b572455b8775cb952252a280": {
          "model_module": "@jupyter-widgets/controls",
          "model_name": "HBoxModel",
          "model_module_version": "1.5.0",
          "state": {
            "_dom_classes": [],
            "_model_module": "@jupyter-widgets/controls",
            "_model_module_version": "1.5.0",
            "_model_name": "HBoxModel",
            "_view_count": null,
            "_view_module": "@jupyter-widgets/controls",
            "_view_module_version": "1.5.0",
            "_view_name": "HBoxView",
            "box_style": "",
            "children": [
              "IPY_MODEL_591c510653994b8c9818915b6ea25720",
              "IPY_MODEL_9431a63e0f294d87bbe46bff2d8b1e27",
              "IPY_MODEL_c3e5c4acbfc64087a1982d19bb1c23c5"
            ],
            "layout": "IPY_MODEL_d808da9454554973bef9c1b099155ff2"
          }
        },
        "591c510653994b8c9818915b6ea25720": {
          "model_module": "@jupyter-widgets/controls",
          "model_name": "HTMLModel",
          "model_module_version": "1.5.0",
          "state": {
            "_dom_classes": [],
            "_model_module": "@jupyter-widgets/controls",
            "_model_module_version": "1.5.0",
            "_model_name": "HTMLModel",
            "_view_count": null,
            "_view_module": "@jupyter-widgets/controls",
            "_view_module_version": "1.5.0",
            "_view_name": "HTMLView",
            "description": "",
            "description_tooltip": null,
            "layout": "IPY_MODEL_d45c80f91e404276acdba7f1458c7a14",
            "placeholder": "​",
            "style": "IPY_MODEL_f91dca4457184b9db77dd3cde9495b1e",
            "value": "Downloading: 100%"
          }
        },
        "9431a63e0f294d87bbe46bff2d8b1e27": {
          "model_module": "@jupyter-widgets/controls",
          "model_name": "FloatProgressModel",
          "model_module_version": "1.5.0",
          "state": {
            "_dom_classes": [],
            "_model_module": "@jupyter-widgets/controls",
            "_model_module_version": "1.5.0",
            "_model_name": "FloatProgressModel",
            "_view_count": null,
            "_view_module": "@jupyter-widgets/controls",
            "_view_module_version": "1.5.0",
            "_view_name": "ProgressView",
            "bar_style": "success",
            "description": "",
            "description_tooltip": null,
            "layout": "IPY_MODEL_442a9dcef89c4ae58ae28627d53eab9a",
            "max": 1600,
            "min": 0,
            "orientation": "horizontal",
            "style": "IPY_MODEL_b463ea37478a410ebad6bfb6b04f6429",
            "value": 1600
          }
        },
        "c3e5c4acbfc64087a1982d19bb1c23c5": {
          "model_module": "@jupyter-widgets/controls",
          "model_name": "HTMLModel",
          "model_module_version": "1.5.0",
          "state": {
            "_dom_classes": [],
            "_model_module": "@jupyter-widgets/controls",
            "_model_module_version": "1.5.0",
            "_model_name": "HTMLModel",
            "_view_count": null,
            "_view_module": "@jupyter-widgets/controls",
            "_view_module_version": "1.5.0",
            "_view_name": "HTMLView",
            "description": "",
            "description_tooltip": null,
            "layout": "IPY_MODEL_2977b65cc6d1427196e511be9694382b",
            "placeholder": "​",
            "style": "IPY_MODEL_4dc0714d31384970946eb68a95187227",
            "value": " 1.56k/1.56k [00:00&lt;00:00, 48.1kB/s]"
          }
        },
        "d808da9454554973bef9c1b099155ff2": {
          "model_module": "@jupyter-widgets/base",
          "model_name": "LayoutModel",
          "model_module_version": "1.2.0",
          "state": {
            "_model_module": "@jupyter-widgets/base",
            "_model_module_version": "1.2.0",
            "_model_name": "LayoutModel",
            "_view_count": null,
            "_view_module": "@jupyter-widgets/base",
            "_view_module_version": "1.2.0",
            "_view_name": "LayoutView",
            "align_content": null,
            "align_items": null,
            "align_self": null,
            "border": null,
            "bottom": null,
            "display": null,
            "flex": null,
            "flex_flow": null,
            "grid_area": null,
            "grid_auto_columns": null,
            "grid_auto_flow": null,
            "grid_auto_rows": null,
            "grid_column": null,
            "grid_gap": null,
            "grid_row": null,
            "grid_template_areas": null,
            "grid_template_columns": null,
            "grid_template_rows": null,
            "height": null,
            "justify_content": null,
            "justify_items": null,
            "left": null,
            "margin": null,
            "max_height": null,
            "max_width": null,
            "min_height": null,
            "min_width": null,
            "object_fit": null,
            "object_position": null,
            "order": null,
            "overflow": null,
            "overflow_x": null,
            "overflow_y": null,
            "padding": null,
            "right": null,
            "top": null,
            "visibility": null,
            "width": null
          }
        },
        "d45c80f91e404276acdba7f1458c7a14": {
          "model_module": "@jupyter-widgets/base",
          "model_name": "LayoutModel",
          "model_module_version": "1.2.0",
          "state": {
            "_model_module": "@jupyter-widgets/base",
            "_model_module_version": "1.2.0",
            "_model_name": "LayoutModel",
            "_view_count": null,
            "_view_module": "@jupyter-widgets/base",
            "_view_module_version": "1.2.0",
            "_view_name": "LayoutView",
            "align_content": null,
            "align_items": null,
            "align_self": null,
            "border": null,
            "bottom": null,
            "display": null,
            "flex": null,
            "flex_flow": null,
            "grid_area": null,
            "grid_auto_columns": null,
            "grid_auto_flow": null,
            "grid_auto_rows": null,
            "grid_column": null,
            "grid_gap": null,
            "grid_row": null,
            "grid_template_areas": null,
            "grid_template_columns": null,
            "grid_template_rows": null,
            "height": null,
            "justify_content": null,
            "justify_items": null,
            "left": null,
            "margin": null,
            "max_height": null,
            "max_width": null,
            "min_height": null,
            "min_width": null,
            "object_fit": null,
            "object_position": null,
            "order": null,
            "overflow": null,
            "overflow_x": null,
            "overflow_y": null,
            "padding": null,
            "right": null,
            "top": null,
            "visibility": null,
            "width": null
          }
        },
        "f91dca4457184b9db77dd3cde9495b1e": {
          "model_module": "@jupyter-widgets/controls",
          "model_name": "DescriptionStyleModel",
          "model_module_version": "1.5.0",
          "state": {
            "_model_module": "@jupyter-widgets/controls",
            "_model_module_version": "1.5.0",
            "_model_name": "DescriptionStyleModel",
            "_view_count": null,
            "_view_module": "@jupyter-widgets/base",
            "_view_module_version": "1.2.0",
            "_view_name": "StyleView",
            "description_width": ""
          }
        },
        "442a9dcef89c4ae58ae28627d53eab9a": {
          "model_module": "@jupyter-widgets/base",
          "model_name": "LayoutModel",
          "model_module_version": "1.2.0",
          "state": {
            "_model_module": "@jupyter-widgets/base",
            "_model_module_version": "1.2.0",
            "_model_name": "LayoutModel",
            "_view_count": null,
            "_view_module": "@jupyter-widgets/base",
            "_view_module_version": "1.2.0",
            "_view_name": "LayoutView",
            "align_content": null,
            "align_items": null,
            "align_self": null,
            "border": null,
            "bottom": null,
            "display": null,
            "flex": null,
            "flex_flow": null,
            "grid_area": null,
            "grid_auto_columns": null,
            "grid_auto_flow": null,
            "grid_auto_rows": null,
            "grid_column": null,
            "grid_gap": null,
            "grid_row": null,
            "grid_template_areas": null,
            "grid_template_columns": null,
            "grid_template_rows": null,
            "height": null,
            "justify_content": null,
            "justify_items": null,
            "left": null,
            "margin": null,
            "max_height": null,
            "max_width": null,
            "min_height": null,
            "min_width": null,
            "object_fit": null,
            "object_position": null,
            "order": null,
            "overflow": null,
            "overflow_x": null,
            "overflow_y": null,
            "padding": null,
            "right": null,
            "top": null,
            "visibility": null,
            "width": null
          }
        },
        "b463ea37478a410ebad6bfb6b04f6429": {
          "model_module": "@jupyter-widgets/controls",
          "model_name": "ProgressStyleModel",
          "model_module_version": "1.5.0",
          "state": {
            "_model_module": "@jupyter-widgets/controls",
            "_model_module_version": "1.5.0",
            "_model_name": "ProgressStyleModel",
            "_view_count": null,
            "_view_module": "@jupyter-widgets/base",
            "_view_module_version": "1.2.0",
            "_view_name": "StyleView",
            "bar_color": null,
            "description_width": ""
          }
        },
        "2977b65cc6d1427196e511be9694382b": {
          "model_module": "@jupyter-widgets/base",
          "model_name": "LayoutModel",
          "model_module_version": "1.2.0",
          "state": {
            "_model_module": "@jupyter-widgets/base",
            "_model_module_version": "1.2.0",
            "_model_name": "LayoutModel",
            "_view_count": null,
            "_view_module": "@jupyter-widgets/base",
            "_view_module_version": "1.2.0",
            "_view_name": "LayoutView",
            "align_content": null,
            "align_items": null,
            "align_self": null,
            "border": null,
            "bottom": null,
            "display": null,
            "flex": null,
            "flex_flow": null,
            "grid_area": null,
            "grid_auto_columns": null,
            "grid_auto_flow": null,
            "grid_auto_rows": null,
            "grid_column": null,
            "grid_gap": null,
            "grid_row": null,
            "grid_template_areas": null,
            "grid_template_columns": null,
            "grid_template_rows": null,
            "height": null,
            "justify_content": null,
            "justify_items": null,
            "left": null,
            "margin": null,
            "max_height": null,
            "max_width": null,
            "min_height": null,
            "min_width": null,
            "object_fit": null,
            "object_position": null,
            "order": null,
            "overflow": null,
            "overflow_x": null,
            "overflow_y": null,
            "padding": null,
            "right": null,
            "top": null,
            "visibility": null,
            "width": null
          }
        },
        "4dc0714d31384970946eb68a95187227": {
          "model_module": "@jupyter-widgets/controls",
          "model_name": "DescriptionStyleModel",
          "model_module_version": "1.5.0",
          "state": {
            "_model_module": "@jupyter-widgets/controls",
            "_model_module_version": "1.5.0",
            "_model_name": "DescriptionStyleModel",
            "_view_count": null,
            "_view_module": "@jupyter-widgets/base",
            "_view_module_version": "1.2.0",
            "_view_name": "StyleView",
            "description_width": ""
          }
        },
        "912937983f494749a0acb893dd967f26": {
          "model_module": "@jupyter-widgets/controls",
          "model_name": "HBoxModel",
          "model_module_version": "1.5.0",
          "state": {
            "_dom_classes": [],
            "_model_module": "@jupyter-widgets/controls",
            "_model_module_version": "1.5.0",
            "_model_name": "HBoxModel",
            "_view_count": null,
            "_view_module": "@jupyter-widgets/controls",
            "_view_module_version": "1.5.0",
            "_view_name": "HBoxView",
            "box_style": "",
            "children": [
              "IPY_MODEL_d68e675382f04f519bc0eaed22e0794b",
              "IPY_MODEL_b7a40ac23e7c4197a07f71bccdd95dc2",
              "IPY_MODEL_2b55df7b300446ea8cde2fa4ce987225"
            ],
            "layout": "IPY_MODEL_fdefad84928e4c6fb88a69b20607f277"
          }
        },
        "d68e675382f04f519bc0eaed22e0794b": {
          "model_module": "@jupyter-widgets/controls",
          "model_name": "HTMLModel",
          "model_module_version": "1.5.0",
          "state": {
            "_dom_classes": [],
            "_model_module": "@jupyter-widgets/controls",
            "_model_module_version": "1.5.0",
            "_model_name": "HTMLModel",
            "_view_count": null,
            "_view_module": "@jupyter-widgets/controls",
            "_view_module_version": "1.5.0",
            "_view_name": "HTMLView",
            "description": "",
            "description_tooltip": null,
            "layout": "IPY_MODEL_d5ce0e32dfe34b8586e3fac48d8ad549",
            "placeholder": "​",
            "style": "IPY_MODEL_97311fc7478c4c369e620c0776f4141d",
            "value": "Downloading: 100%"
          }
        },
        "b7a40ac23e7c4197a07f71bccdd95dc2": {
          "model_module": "@jupyter-widgets/controls",
          "model_name": "FloatProgressModel",
          "model_module_version": "1.5.0",
          "state": {
            "_dom_classes": [],
            "_model_module": "@jupyter-widgets/controls",
            "_model_module_version": "1.5.0",
            "_model_name": "FloatProgressModel",
            "_view_count": null,
            "_view_module": "@jupyter-widgets/controls",
            "_view_module_version": "1.5.0",
            "_view_name": "ProgressView",
            "bar_style": "success",
            "description": "",
            "description_tooltip": null,
            "layout": "IPY_MODEL_09a5182790214a788b649e935de7e9b0",
            "max": 1261920069,
            "min": 0,
            "orientation": "horizontal",
            "style": "IPY_MODEL_52c5e85232894d559ce7a549b14e5c62",
            "value": 1261920069
          }
        },
        "2b55df7b300446ea8cde2fa4ce987225": {
          "model_module": "@jupyter-widgets/controls",
          "model_name": "HTMLModel",
          "model_module_version": "1.5.0",
          "state": {
            "_dom_classes": [],
            "_model_module": "@jupyter-widgets/controls",
            "_model_module_version": "1.5.0",
            "_model_name": "HTMLModel",
            "_view_count": null,
            "_view_module": "@jupyter-widgets/controls",
            "_view_module_version": "1.5.0",
            "_view_name": "HTMLView",
            "description": "",
            "description_tooltip": null,
            "layout": "IPY_MODEL_90f70d91f15b4f788a5982e5dfe9e7ab",
            "placeholder": "​",
            "style": "IPY_MODEL_c968fd164cd9406e95c258dffd503ebc",
            "value": " 1.18G/1.18G [00:24&lt;00:00, 58.3MB/s]"
          }
        },
        "fdefad84928e4c6fb88a69b20607f277": {
          "model_module": "@jupyter-widgets/base",
          "model_name": "LayoutModel",
          "model_module_version": "1.2.0",
          "state": {
            "_model_module": "@jupyter-widgets/base",
            "_model_module_version": "1.2.0",
            "_model_name": "LayoutModel",
            "_view_count": null,
            "_view_module": "@jupyter-widgets/base",
            "_view_module_version": "1.2.0",
            "_view_name": "LayoutView",
            "align_content": null,
            "align_items": null,
            "align_self": null,
            "border": null,
            "bottom": null,
            "display": null,
            "flex": null,
            "flex_flow": null,
            "grid_area": null,
            "grid_auto_columns": null,
            "grid_auto_flow": null,
            "grid_auto_rows": null,
            "grid_column": null,
            "grid_gap": null,
            "grid_row": null,
            "grid_template_areas": null,
            "grid_template_columns": null,
            "grid_template_rows": null,
            "height": null,
            "justify_content": null,
            "justify_items": null,
            "left": null,
            "margin": null,
            "max_height": null,
            "max_width": null,
            "min_height": null,
            "min_width": null,
            "object_fit": null,
            "object_position": null,
            "order": null,
            "overflow": null,
            "overflow_x": null,
            "overflow_y": null,
            "padding": null,
            "right": null,
            "top": null,
            "visibility": null,
            "width": null
          }
        },
        "d5ce0e32dfe34b8586e3fac48d8ad549": {
          "model_module": "@jupyter-widgets/base",
          "model_name": "LayoutModel",
          "model_module_version": "1.2.0",
          "state": {
            "_model_module": "@jupyter-widgets/base",
            "_model_module_version": "1.2.0",
            "_model_name": "LayoutModel",
            "_view_count": null,
            "_view_module": "@jupyter-widgets/base",
            "_view_module_version": "1.2.0",
            "_view_name": "LayoutView",
            "align_content": null,
            "align_items": null,
            "align_self": null,
            "border": null,
            "bottom": null,
            "display": null,
            "flex": null,
            "flex_flow": null,
            "grid_area": null,
            "grid_auto_columns": null,
            "grid_auto_flow": null,
            "grid_auto_rows": null,
            "grid_column": null,
            "grid_gap": null,
            "grid_row": null,
            "grid_template_areas": null,
            "grid_template_columns": null,
            "grid_template_rows": null,
            "height": null,
            "justify_content": null,
            "justify_items": null,
            "left": null,
            "margin": null,
            "max_height": null,
            "max_width": null,
            "min_height": null,
            "min_width": null,
            "object_fit": null,
            "object_position": null,
            "order": null,
            "overflow": null,
            "overflow_x": null,
            "overflow_y": null,
            "padding": null,
            "right": null,
            "top": null,
            "visibility": null,
            "width": null
          }
        },
        "97311fc7478c4c369e620c0776f4141d": {
          "model_module": "@jupyter-widgets/controls",
          "model_name": "DescriptionStyleModel",
          "model_module_version": "1.5.0",
          "state": {
            "_model_module": "@jupyter-widgets/controls",
            "_model_module_version": "1.5.0",
            "_model_name": "DescriptionStyleModel",
            "_view_count": null,
            "_view_module": "@jupyter-widgets/base",
            "_view_module_version": "1.2.0",
            "_view_name": "StyleView",
            "description_width": ""
          }
        },
        "09a5182790214a788b649e935de7e9b0": {
          "model_module": "@jupyter-widgets/base",
          "model_name": "LayoutModel",
          "model_module_version": "1.2.0",
          "state": {
            "_model_module": "@jupyter-widgets/base",
            "_model_module_version": "1.2.0",
            "_model_name": "LayoutModel",
            "_view_count": null,
            "_view_module": "@jupyter-widgets/base",
            "_view_module_version": "1.2.0",
            "_view_name": "LayoutView",
            "align_content": null,
            "align_items": null,
            "align_self": null,
            "border": null,
            "bottom": null,
            "display": null,
            "flex": null,
            "flex_flow": null,
            "grid_area": null,
            "grid_auto_columns": null,
            "grid_auto_flow": null,
            "grid_auto_rows": null,
            "grid_column": null,
            "grid_gap": null,
            "grid_row": null,
            "grid_template_areas": null,
            "grid_template_columns": null,
            "grid_template_rows": null,
            "height": null,
            "justify_content": null,
            "justify_items": null,
            "left": null,
            "margin": null,
            "max_height": null,
            "max_width": null,
            "min_height": null,
            "min_width": null,
            "object_fit": null,
            "object_position": null,
            "order": null,
            "overflow": null,
            "overflow_x": null,
            "overflow_y": null,
            "padding": null,
            "right": null,
            "top": null,
            "visibility": null,
            "width": null
          }
        },
        "52c5e85232894d559ce7a549b14e5c62": {
          "model_module": "@jupyter-widgets/controls",
          "model_name": "ProgressStyleModel",
          "model_module_version": "1.5.0",
          "state": {
            "_model_module": "@jupyter-widgets/controls",
            "_model_module_version": "1.5.0",
            "_model_name": "ProgressStyleModel",
            "_view_count": null,
            "_view_module": "@jupyter-widgets/base",
            "_view_module_version": "1.2.0",
            "_view_name": "StyleView",
            "bar_color": null,
            "description_width": ""
          }
        },
        "90f70d91f15b4f788a5982e5dfe9e7ab": {
          "model_module": "@jupyter-widgets/base",
          "model_name": "LayoutModel",
          "model_module_version": "1.2.0",
          "state": {
            "_model_module": "@jupyter-widgets/base",
            "_model_module_version": "1.2.0",
            "_model_name": "LayoutModel",
            "_view_count": null,
            "_view_module": "@jupyter-widgets/base",
            "_view_module_version": "1.2.0",
            "_view_name": "LayoutView",
            "align_content": null,
            "align_items": null,
            "align_self": null,
            "border": null,
            "bottom": null,
            "display": null,
            "flex": null,
            "flex_flow": null,
            "grid_area": null,
            "grid_auto_columns": null,
            "grid_auto_flow": null,
            "grid_auto_rows": null,
            "grid_column": null,
            "grid_gap": null,
            "grid_row": null,
            "grid_template_areas": null,
            "grid_template_columns": null,
            "grid_template_rows": null,
            "height": null,
            "justify_content": null,
            "justify_items": null,
            "left": null,
            "margin": null,
            "max_height": null,
            "max_width": null,
            "min_height": null,
            "min_width": null,
            "object_fit": null,
            "object_position": null,
            "order": null,
            "overflow": null,
            "overflow_x": null,
            "overflow_y": null,
            "padding": null,
            "right": null,
            "top": null,
            "visibility": null,
            "width": null
          }
        },
        "c968fd164cd9406e95c258dffd503ebc": {
          "model_module": "@jupyter-widgets/controls",
          "model_name": "DescriptionStyleModel",
          "model_module_version": "1.5.0",
          "state": {
            "_model_module": "@jupyter-widgets/controls",
            "_model_module_version": "1.5.0",
            "_model_name": "DescriptionStyleModel",
            "_view_count": null,
            "_view_module": "@jupyter-widgets/base",
            "_view_module_version": "1.2.0",
            "_view_name": "StyleView",
            "description_width": ""
          }
        }
      }
    }
  },
  "nbformat": 4,
  "nbformat_minor": 0
}