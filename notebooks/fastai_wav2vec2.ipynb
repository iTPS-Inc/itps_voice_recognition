{
 "cells": [
  {
   "cell_type": "markdown",
   "metadata": {
    "id": "cdKgb73b3tET"
   },
   "source": [
    "# Setup"
   ]
  },
  {
   "cell_type": "code",
   "execution_count": 3,
   "metadata": {
    "colab": {
     "base_uri": "https://localhost:8080/"
    },
    "id": "8Y_N_fnJbzjQ",
    "outputId": "e04bdf7a-2ca9-48e8-a17e-cdcaa0e99193"
   },
   "outputs": [],
   "source": [
    "%%bash \n",
    "if [ -d /content/ ]; then\n",
    "if [ -d itps_voice_recognition ]; then\n",
    "  cd itps_voice_recognition\n",
    "  git pull -r \n",
    "  cd ..\n",
    "else \n",
    "  git clone https://github.com/iTPS-Inc/itps_voice_recognition.git\n",
    "fi\n",
    "\n",
    "if [ ! -f installed ]; then \n",
    "pip install datasets==1.13.3\n",
    "pip install transformers==4.11.3\n",
    "pip install librosa\n",
    "pip install jiwer\n",
    "pip install sentencepiece\n",
    "pip install -Uqq fastai \n",
    "touch installed\n",
    "fi\n",
    "fi"
   ]
  },
  {
   "cell_type": "code",
   "execution_count": 4,
   "metadata": {
    "id": "kvswE13cT9p4"
   },
   "outputs": [],
   "source": [
    "import os\n",
    "if os.path.exists(\"/content/\"):\n",
    "    os.chdir(\"itps_voice_recognition\")\n",
    "    from dsets.dsets import ENGLISH_DATASETS, get_datasets\n",
    "    from dsets.dset_config.dset_config import DatasetConfig\n",
    "\n",
    "    from dsets.helpers.helpers import apply_parallel, get_sampling_rates\n",
    "    from itpsaudio.transforms import * \n",
    "    from itpsaudio.core import * \n",
    "    os.chdir(\"..\")\n",
    "else:\n",
    "    from dsets.dsets import ENGLISH_DATASETS, get_datasets\n",
    "    from dsets.dset_config.dset_config import DatasetConfig\n",
    "    from dsets.helpers.helpers import apply_parallel, get_sampling_rates\n",
    "    from itpsaudio.transforms import * \n",
    "    from itpsaudio.core import * "
   ]
  },
  {
   "cell_type": "markdown",
   "metadata": {
    "id": "C4Tp-_lq3wLv"
   },
   "source": [
    "# Imports "
   ]
  },
  {
   "cell_type": "code",
   "execution_count": 5,
   "metadata": {
    "id": "R3gvYVescNJa"
   },
   "outputs": [],
   "source": [
    "from fastai.data.all import * \n",
    "from transformers import Wav2Vec2FeatureExtractor, Wav2Vec2ForMaskedLM, AutoTokenizer, Wav2Vec2Processor, Wav2Vec2ForCTC\n",
    "from fastai.text.all import * \n",
    "from fastai.vision.all import *\n",
    "from fastai.callback.tensorboard import *\n",
    "import torchaudio\n",
    "import pandas\n",
    "from pathlib import Path\n",
    "from IPython.display import Audio, display\n",
    "from datasets import load_metric\n",
    "wer_metric = load_metric(\"wer\")\n",
    "dset_lengths = None"
   ]
  },
  {
   "cell_type": "code",
   "execution_count": 6,
   "metadata": {
    "id": "2giiyZ5eY0B1"
   },
   "outputs": [],
   "source": [
    "ljl = DatasetConfig(name=\"ljl\", split=\"both\")\n",
    "itps_en = DatasetConfig(name=\"itps\", split=\"train\",lang=\"en\")\n",
    "p, df = get_datasets([itps_en], force_download=False)"
   ]
  },
  {
   "cell_type": "code",
   "execution_count": 7,
   "metadata": {
    "id": "w0Mk7fk8vqr9"
   },
   "outputs": [],
   "source": [
    "# p, df = get_datasets(ENGLISH_DATASETS, force_download=False)"
   ]
  },
  {
   "cell_type": "markdown",
   "metadata": {
    "id": "f8_BG1HLB13f"
   },
   "source": [
    "# Model Training"
   ]
  },
  {
   "cell_type": "code",
   "execution_count": 8,
   "metadata": {
    "id": "hq6V-X-icSRE"
   },
   "outputs": [],
   "source": [
    "def get_audio_length(s):\n",
    "    t, sr = torchaudio.load(s)\n",
    "    return len(t[0])/sr"
   ]
  },
  {
   "cell_type": "code",
   "execution_count": 9,
   "metadata": {
    "colab": {
     "base_uri": "https://localhost:8080/"
    },
    "id": "9wWk9M95xP5d",
    "outputId": "5a7378f8-c3c0-4083-cd4d-3c5da812d251"
   },
   "outputs": [
    {
     "name": "stderr",
     "output_type": "stream",
     "text": [
      "100%|███████████████████████████████████████████████████████████████████| 4/4 [00:03<00:00,  1.16it/s]\n"
     ]
    }
   ],
   "source": [
    "df[\"audio_length\"] = apply_parallel(df[\"filename\"], get_audio_length, 4)"
   ]
  },
  {
   "cell_type": "code",
   "execution_count": 10,
   "metadata": {
    "id": "kSLMH8MRHI5I"
   },
   "outputs": [],
   "source": [
    "df = df[df[\"audio_length\"]<15].reset_index(drop=True)\n",
    "df = df[~df[\"text\"].isna()].reset_index(drop=True)"
   ]
  },
  {
   "cell_type": "code",
   "execution_count": 13,
   "metadata": {
    "id": "FhdLwq_HOpsL"
   },
   "outputs": [
    {
     "data": {
      "application/vnd.jupyter.widget-view+json": {
       "model_id": "ae5d22b0990344f28fff14a79fbbffd7",
       "version_major": 2,
       "version_minor": 0
      },
      "text/plain": [
       "Downloading:   0%|          | 0.00/1.34k [00:00<?, ?B/s]"
      ]
     },
     "metadata": {},
     "output_type": "display_data"
    },
    {
     "data": {
      "application/vnd.jupyter.widget-view+json": {
       "model_id": "a8872e06511544fba4731492a765f8ce",
       "version_major": 2,
       "version_minor": 0
      },
      "text/plain": [
       "Downloading:   0%|          | 0.00/1.18G [00:00<?, ?B/s]"
      ]
     },
     "metadata": {},
     "output_type": "display_data"
    },
    {
     "data": {
      "application/vnd.jupyter.widget-view+json": {
       "model_id": "75b38a60a7e84931b00967c6127ca6d5",
       "version_major": 2,
       "version_minor": 0
      },
      "text/plain": [
       "Downloading:   0%|          | 0.00/212 [00:00<?, ?B/s]"
      ]
     },
     "metadata": {},
     "output_type": "display_data"
    },
    {
     "data": {
      "application/vnd.jupyter.widget-view+json": {
       "model_id": "c00a45191e6f40bea71b22c10061c4f9",
       "version_major": 2,
       "version_minor": 0
      },
      "text/plain": [
       "Downloading:   0%|          | 0.00/138 [00:00<?, ?B/s]"
      ]
     },
     "metadata": {},
     "output_type": "display_data"
    },
    {
     "data": {
      "application/vnd.jupyter.widget-view+json": {
       "model_id": "389e2e90d90e4e73a17ef9996bae06ef",
       "version_major": 2,
       "version_minor": 0
      },
      "text/plain": [
       "Downloading:   0%|          | 0.00/291 [00:00<?, ?B/s]"
      ]
     },
     "metadata": {},
     "output_type": "display_data"
    },
    {
     "data": {
      "application/vnd.jupyter.widget-view+json": {
       "model_id": "78162e1438a84b61be70f868be6d6cb9",
       "version_major": 2,
       "version_minor": 0
      },
      "text/plain": [
       "Downloading:   0%|          | 0.00/85.0 [00:00<?, ?B/s]"
      ]
     },
     "metadata": {},
     "output_type": "display_data"
    },
    {
     "name": "stderr",
     "output_type": "stream",
     "text": [
      "/home/jjs/.conda/envs/itps-env/lib/python3.7/site-packages/transformers/models/hubert/modeling_hubert.py:1098: FutureWarning: The method `freeze_feature_extractor` is deprecated and will be removed in Transformers v5.Please use the equivalent `freeze_feature_encoder` method instead.\n",
      "  FutureWarning,\n"
     ]
    }
   ],
   "source": [
    "from transformers import HubertForCTC\n",
    "pretrained_model_name = \"facebook/hubert-large-ls960-ft\"\n",
    "model = HubertForCTC.from_pretrained(pretrained_model_name)\n",
    "processor = Wav2Vec2Processor.from_pretrained(pretrained_model_name)\n",
    "\n",
    "dataroot=Path(\"/\")\n",
    "splits=RandomSplitter(valid_pct=0.2)(df)\n",
    "\n",
    "y_tfms = [ItemGetter(\"text\"), capitalize, TransformersTokenizer(processor)]\n",
    "x_tfms = [ItemGetter(\"filename\"),LoadAudio(path=dataroot), extract_first]\n",
    "if not dset_lengths:\n",
    "    length_pipeline = Pipeline([LoadAudio(path=dataroot)] + [len])\n",
    "    train_text_lens = L(df.iloc[splits[0]][\"filename\"].to_list())\n",
    "    valid_text_lens = L(df.iloc[splits[1]][\"filename\"].to_list())\n",
    "    train_text_lens = train_text_lens.map(length_pipeline)\n",
    "    valid_text_lens = valid_text_lens.map(length_pipeline)\n",
    "    dset_lengths = True\n",
    "\n",
    "dsets = Datasets(df, [x_tfms, y_tfms], n_inp=1, splits=splits)\n",
    "\n",
    "model = HubertForCTC.from_pretrained(\n",
    "    pretrained_model_name,\n",
    "    # Path(\"/content/drive/MyDrive/data/models/english/librivox/librispeech_en_960hbase\"),\n",
    "    # attention_dropout=0.08,\n",
    "    # hidden_dropout=0.08,\n",
    "    # feat_proj_dropout=0.08,\n",
    "    # mask_time_prob=0.05,\n",
    "    # layerdrop=0.08,\n",
    "    # ctc_loss_reduction=\"mean\", \n",
    "    ctc_zero_infinity=True,\n",
    "    # pad_token_id=processor.tokenizer.pad_token_id,\n",
    "    # vocab_size=len(processor.tokenizer),\n",
    ").cuda()\n",
    "model.freeze_feature_extractor()"
   ]
  },
  {
   "cell_type": "code",
   "execution_count": 1,
   "metadata": {
    "id": "ohri3QJYC8X6"
   },
   "outputs": [
    {
     "ename": "NameError",
     "evalue": "name 'partial' is not defined",
     "output_type": "error",
     "traceback": [
      "\u001b[0;31m---------------------------------------------------------------------------\u001b[0m",
      "\u001b[0;31mNameError\u001b[0m                                 Traceback (most recent call last)",
      "\u001b[0;32m/tmp/ipykernel_43220/3065031087.py\u001b[0m in \u001b[0;36m<module>\u001b[0;34m\u001b[0m\n\u001b[0;32m----> 1\u001b[0;31m \u001b[0msrtd_dl\u001b[0m\u001b[0;34m=\u001b[0m\u001b[0mpartial\u001b[0m\u001b[0;34m(\u001b[0m\u001b[0mSortedDL\u001b[0m\u001b[0;34m,\u001b[0m \u001b[0mres\u001b[0m \u001b[0;34m=\u001b[0m \u001b[0mtrain_text_lens\u001b[0m\u001b[0;34m)\u001b[0m\u001b[0;34m\u001b[0m\u001b[0;34m\u001b[0m\u001b[0m\n\u001b[0m\u001b[1;32m      2\u001b[0m \u001b[0mdl_kwargs\u001b[0m \u001b[0;34m=\u001b[0m \u001b[0;34m[\u001b[0m\u001b[0;34m{\u001b[0m\u001b[0;34m}\u001b[0m\u001b[0;34m,\u001b[0m\u001b[0;34m{\u001b[0m\u001b[0;34m'val_res'\u001b[0m\u001b[0;34m:\u001b[0m \u001b[0mvalid_text_lens\u001b[0m\u001b[0;34m}\u001b[0m\u001b[0;34m]\u001b[0m\u001b[0;34m\u001b[0m\u001b[0;34m\u001b[0m\u001b[0m\n\u001b[1;32m      3\u001b[0m \u001b[0;34m\u001b[0m\u001b[0m\n\u001b[1;32m      4\u001b[0m dls = dsets.dataloaders(bs=2,\n\u001b[1;32m      5\u001b[0m                         \u001b[0mbefore_batch\u001b[0m\u001b[0;34m=\u001b[0m\u001b[0;34m[\u001b[0m\u001b[0mPad_Audio_Chunk\u001b[0m\u001b[0;34m(\u001b[0m\u001b[0mpad_idx\u001b[0m\u001b[0;34m=\u001b[0m\u001b[0mprocessor\u001b[0m\u001b[0;34m.\u001b[0m\u001b[0mtokenizer\u001b[0m\u001b[0;34m.\u001b[0m\u001b[0mpad_token_id\u001b[0m\u001b[0;34m,\u001b[0m \u001b[0mseq_len\u001b[0m\u001b[0;34m=\u001b[0m\u001b[0;36m1\u001b[0m\u001b[0;34m)\u001b[0m\u001b[0;34m]\u001b[0m\u001b[0;34m,\u001b[0m\u001b[0;34m\u001b[0m\u001b[0;34m\u001b[0m\u001b[0m\n",
      "\u001b[0;31mNameError\u001b[0m: name 'partial' is not defined"
     ]
    }
   ],
   "source": [
    "srtd_dl=partial(SortedDL, res = train_text_lens)\n",
    "dl_kwargs = [{},{'val_res': valid_text_lens}]\n",
    "\n",
    "dls = dsets.dataloaders(bs=2,\n",
    "                        before_batch=[Pad_Audio_Chunk(pad_idx=processor.tokenizer.pad_token_id, seq_len=1)],\n",
    "                        shuffle=True,\n",
    "                        sort_func=length_pipeline,\n",
    "                        dl_kwargs=dl_kwargs,\n",
    "                        dl_type=srtd_dl)"
   ]
  },
  {
   "cell_type": "code",
   "execution_count": null,
   "metadata": {
    "id": "qkHF9usWBGlK"
   },
   "outputs": [],
   "source": [
    "def wer(pred, labels):\n",
    "    pred_logits = pred.logits\n",
    "    pred_ids = np.argmax(pred_logits.cpu().numpy(), axis=-1)\n",
    "    pred_str = processor.batch_decode(pred_ids)\n",
    "    # we do not want to group tokens when computing the metrics\n",
    "    label_str = processor.batch_decode(labels, group_tokens=False)\n",
    "    wer = wer_metric.compute(predictions=pred_str, references=label_str)\n",
    "    return wer\n",
    "\n",
    "class TransformersLearner(Learner):\n",
    "    def _do_one_batch(self):\n",
    "        self.pred = self.model(*self.xb, labels=self.yb[0])\n",
    "        self('after_pred')\n",
    "        self.loss_grad = self.pred[\"loss\"]\n",
    "        self.loss = self.loss_grad.clone()\n",
    "        self.smooth_loss = self.loss_grad.clone()\n",
    "        self('after_loss')\n",
    "        if not self.training or not len(self.yb): return\n",
    "        self('before_backward')\n",
    "        self.loss_grad.backward()\n",
    "        self._with_events(self.opt.step, 'step', CancelStepException)\n",
    "        self.opt.zero_grad()"
   ]
  },
  {
   "cell_type": "code",
   "execution_count": null,
   "metadata": {
    "id": "qDWjL4-1dLrj"
   },
   "outputs": [],
   "source": [
    "x, y = dls.one_batch()"
   ]
  },
  {
   "cell_type": "code",
   "execution_count": null,
   "metadata": {
    "colab": {
     "base_uri": "https://localhost:8080/"
    },
    "id": "gLp2QPKXc9GY",
    "outputId": "7788b025-a790-4a74-c215-2abce39a8890"
   },
   "outputs": [
    {
     "data": {
      "text/plain": [
       "[\"<unk> AND THAT<unk>FS THE LAST OF THE CURENT MEMBERSHIP TO THE OECD SE SO THERE'S AN AWFUL LOT OF OF COUNTRIES THERE\",\n",
       " 'THE FIXED RETURN WOULD CONSIDER DIFERENCES AND REGIONAL IN INDUSTRY AND TREATY CHANGES WIL NOT BE REQUIRED TO IMPLEMENT AMOUNT B']"
      ]
     },
     "execution_count": 14,
     "metadata": {},
     "output_type": "execute_result"
    }
   ],
   "source": [
    "processor.batch_decode(dls.one_batch()[1])"
   ]
  },
  {
   "cell_type": "code",
   "execution_count": null,
   "metadata": {
    "id": "crYUi4qEfWG2"
   },
   "outputs": [],
   "source": [
    "logdir = Path(\"/content/drive/MyDrive/data/logs/audio_en/wav2vec2\")\n",
    "modelpath=Path(\"/content/drive/MyDrive/data/models/\")\n",
    "cbs=[TensorBoardCallback(log_dir=logdir,trace_model=False,log_preds=False),\n",
    "     SaveModelCallback(fname=Path(modelpath/ \"audio_en\"/\"wav2vec2\")), \n",
    "     EarlyStoppingCallback(patience=10)]\n",
    "\n",
    "learn = TransformersLearner(dls, model,\n",
    "                loss_func=noop, # Loss is calculated in Transformers internally\n",
    "                metrics=[Perplexity(), wer ],\n",
    "                cbs=cbs)"
   ]
  },
  {
   "cell_type": "code",
   "execution_count": null,
   "metadata": {
    "colab": {
     "base_uri": "https://localhost:8080/"
    },
    "id": "7J_-jI8hIdNo",
    "outputId": "46c05fb8-49b3-4218-b7d8-57aeb1eea685"
   },
   "outputs": [
    {
     "data": {
      "text/plain": [
       "2401"
      ]
     },
     "execution_count": 16,
     "metadata": {},
     "output_type": "execute_result"
    }
   ],
   "source": [
    "import gc\n",
    "torch.cuda.empty_cache()\n",
    "gc.collect()"
   ]
  },
  {
   "cell_type": "code",
   "execution_count": null,
   "metadata": {
    "colab": {
     "base_uri": "https://localhost:8080/",
     "height": 340
    },
    "id": "grkFJSDqdY0h",
    "outputId": "72642aac-67ef-42a7-8f32-57d0dbfa0440"
   },
   "outputs": [
    {
     "data": {
      "text/html": [
       "\n",
       "<style>\n",
       "    /* Turns off some styling */\n",
       "    progress {\n",
       "        /* gets rid of default border in Firefox and Opera. */\n",
       "        border: none;\n",
       "        /* Needs to be in here for Safari polyfill so background images work as expected. */\n",
       "        background-size: auto;\n",
       "    }\n",
       "    .progress-bar-interrupted, .progress-bar-interrupted::-webkit-progress-bar {\n",
       "        background: #F44336;\n",
       "    }\n",
       "</style>\n"
      ],
      "text/plain": [
       "<IPython.core.display.HTML object>"
      ]
     },
     "metadata": {},
     "output_type": "display_data"
    },
    {
     "data": {
      "text/html": [],
      "text/plain": [
       "<IPython.core.display.HTML object>"
      ]
     },
     "metadata": {},
     "output_type": "display_data"
    },
    {
     "name": "stderr",
     "output_type": "stream",
     "text": [
      "/usr/local/lib/python3.7/dist-packages/torch/_tensor.py:1051: UserWarning: __floordiv__ is deprecated, and its behavior will change in a future version of pytorch. It currently rounds toward 0 (like the 'trunc' function NOT 'floor'). This results in incorrect rounding for negative values. To keep the current behavior, use torch.div(a, b, rounding_mode='trunc'), or for actual floor division, use torch.div(a, b, rounding_mode='floor').\n",
      "  ret = func(*args, **kwargs)\n"
     ]
    },
    {
     "data": {
      "image/png": "[encoded data removed]",
      "text/plain": [
       "<Figure size 432x288 with 1 Axes>"
      ]
     },
     "metadata": {
      "needs_background": "light"
     },
     "output_type": "display_data"
    }
   ],
   "source": [
    "start_lr=1e-7\n",
    "end_lr=10\n",
    "r = learn.lr_find(start_lr=start_lr, end_lr=end_lr, num_it=100, stop_div=True, suggest_funcs=())"
   ]
  },
  {
   "cell_type": "code",
   "execution_count": null,
   "metadata": {
    "colab": {
     "base_uri": "https://localhost:8080/",
     "height": 1000
    },
    "id": "7P3W1umeYRPt",
    "outputId": "64fb84af-4939-4864-fd1a-1082c63b83b7"
   },
   "outputs": [
    {
     "data": {
      "text/html": [
       "\n",
       "<style>\n",
       "    /* Turns off some styling */\n",
       "    progress {\n",
       "        /* gets rid of default border in Firefox and Opera. */\n",
       "        border: none;\n",
       "        /* Needs to be in here for Safari polyfill so background images work as expected. */\n",
       "        background-size: auto;\n",
       "    }\n",
       "    .progress-bar-interrupted, .progress-bar-interrupted::-webkit-progress-bar {\n",
       "        background: #F44336;\n",
       "    }\n",
       "</style>\n"
      ],
      "text/plain": [
       "<IPython.core.display.HTML object>"
      ]
     },
     "metadata": {},
     "output_type": "display_data"
    },
    {
     "data": {
      "text/html": [
       "<table border=\"1\" class=\"dataframe\">\n",
       "  <thead>\n",
       "    <tr style=\"text-align: left;\">\n",
       "      <th>epoch</th>\n",
       "      <th>train_loss</th>\n",
       "      <th>valid_loss</th>\n",
       "      <th>perplexity</th>\n",
       "      <th>wer</th>\n",
       "      <th>time</th>\n",
       "    </tr>\n",
       "  </thead>\n",
       "  <tbody>\n",
       "    <tr>\n",
       "      <td>0</td>\n",
       "      <td>240.547012</td>\n",
       "      <td>202.082779</td>\n",
       "      <td>inf</td>\n",
       "      <td>0.576132</td>\n",
       "      <td>05:30</td>\n",
       "    </tr>\n",
       "    <tr>\n",
       "      <td>1</td>\n",
       "      <td>212.139771</td>\n",
       "      <td>172.517365</td>\n",
       "      <td>inf</td>\n",
       "      <td>0.558528</td>\n",
       "      <td>03:56</td>\n",
       "    </tr>\n",
       "    <tr>\n",
       "      <td>2</td>\n",
       "      <td>189.925903</td>\n",
       "      <td>164.425095</td>\n",
       "      <td>inf</td>\n",
       "      <td>0.552270</td>\n",
       "      <td>03:42</td>\n",
       "    </tr>\n",
       "    <tr>\n",
       "      <td>3</td>\n",
       "      <td>194.459442</td>\n",
       "      <td>161.841492</td>\n",
       "      <td>inf</td>\n",
       "      <td>0.549975</td>\n",
       "      <td>03:31</td>\n",
       "    </tr>\n",
       "    <tr>\n",
       "      <td>4</td>\n",
       "      <td>175.179108</td>\n",
       "      <td>155.433929</td>\n",
       "      <td>inf</td>\n",
       "      <td>0.528069</td>\n",
       "      <td>03:24</td>\n",
       "    </tr>\n",
       "    <tr>\n",
       "      <td>5</td>\n",
       "      <td>165.354019</td>\n",
       "      <td>147.900497</td>\n",
       "      <td>inf</td>\n",
       "      <td>0.513570</td>\n",
       "      <td>03:26</td>\n",
       "    </tr>\n",
       "    <tr>\n",
       "      <td>6</td>\n",
       "      <td>159.788620</td>\n",
       "      <td>144.854233</td>\n",
       "      <td>inf</td>\n",
       "      <td>0.481534</td>\n",
       "      <td>03:25</td>\n",
       "    </tr>\n",
       "    <tr>\n",
       "      <td>7</td>\n",
       "      <td>153.044678</td>\n",
       "      <td>149.233627</td>\n",
       "      <td>inf</td>\n",
       "      <td>0.494128</td>\n",
       "      <td>03:22</td>\n",
       "    </tr>\n",
       "    <tr>\n",
       "      <td>8</td>\n",
       "      <td>141.611374</td>\n",
       "      <td>153.410583</td>\n",
       "      <td>inf</td>\n",
       "      <td>0.491739</td>\n",
       "      <td>03:19</td>\n",
       "    </tr>\n",
       "    <tr>\n",
       "      <td>9</td>\n",
       "      <td>137.458649</td>\n",
       "      <td>144.597092</td>\n",
       "      <td>inf</td>\n",
       "      <td>0.487393</td>\n",
       "      <td>03:18</td>\n",
       "    </tr>\n",
       "    <tr>\n",
       "      <td>10</td>\n",
       "      <td>121.413559</td>\n",
       "      <td>149.495056</td>\n",
       "      <td>inf</td>\n",
       "      <td>0.462674</td>\n",
       "      <td>03:19</td>\n",
       "    </tr>\n",
       "    <tr>\n",
       "      <td>11</td>\n",
       "      <td>111.081703</td>\n",
       "      <td>169.027832</td>\n",
       "      <td>inf</td>\n",
       "      <td>0.485459</td>\n",
       "      <td>03:16</td>\n",
       "    </tr>\n",
       "    <tr>\n",
       "      <td>12</td>\n",
       "      <td>108.918213</td>\n",
       "      <td>157.455658</td>\n",
       "      <td>inf</td>\n",
       "      <td>0.451841</td>\n",
       "      <td>03:19</td>\n",
       "    </tr>\n",
       "    <tr>\n",
       "      <td>13</td>\n",
       "      <td>107.393242</td>\n",
       "      <td>154.529221</td>\n",
       "      <td>inf</td>\n",
       "      <td>0.450998</td>\n",
       "      <td>03:18</td>\n",
       "    </tr>\n",
       "    <tr>\n",
       "      <td>14</td>\n",
       "      <td>110.834297</td>\n",
       "      <td>176.166000</td>\n",
       "      <td>inf</td>\n",
       "      <td>0.467652</td>\n",
       "      <td>03:17</td>\n",
       "    </tr>\n",
       "    <tr>\n",
       "      <td>15</td>\n",
       "      <td>91.822006</td>\n",
       "      <td>161.648254</td>\n",
       "      <td>inf</td>\n",
       "      <td>0.451417</td>\n",
       "      <td>03:12</td>\n",
       "    </tr>\n",
       "    <tr>\n",
       "      <td>16</td>\n",
       "      <td>83.793808</td>\n",
       "      <td>163.869705</td>\n",
       "      <td>inf</td>\n",
       "      <td>0.451779</td>\n",
       "      <td>03:17</td>\n",
       "    </tr>\n",
       "    <tr>\n",
       "      <td>17</td>\n",
       "      <td>82.121529</td>\n",
       "      <td>158.282425</td>\n",
       "      <td>inf</td>\n",
       "      <td>0.453635</td>\n",
       "      <td>03:15</td>\n",
       "    </tr>\n",
       "    <tr>\n",
       "      <td>18</td>\n",
       "      <td>83.619850</td>\n",
       "      <td>177.607986</td>\n",
       "      <td>inf</td>\n",
       "      <td>0.448222</td>\n",
       "      <td>03:15</td>\n",
       "    </tr>\n",
       "    <tr>\n",
       "      <td>19</td>\n",
       "      <td>76.229042</td>\n",
       "      <td>162.958694</td>\n",
       "      <td>inf</td>\n",
       "      <td>0.452903</td>\n",
       "      <td>03:15</td>\n",
       "    </tr>\n",
       "  </tbody>\n",
       "</table>"
      ],
      "text/plain": [
       "<IPython.core.display.HTML object>"
      ]
     },
     "metadata": {},
     "output_type": "display_data"
    },
    {
     "name": "stderr",
     "output_type": "stream",
     "text": [
      "/usr/local/lib/python3.7/dist-packages/torch/_tensor.py:1051: UserWarning: __floordiv__ is deprecated, and its behavior will change in a future version of pytorch. It currently rounds toward 0 (like the 'trunc' function NOT 'floor'). This results in incorrect rounding for negative values. To keep the current behavior, use torch.div(a, b, rounding_mode='trunc'), or for actual floor division, use torch.div(a, b, rounding_mode='floor').\n",
      "  ret = func(*args, **kwargs)\n"
     ]
    },
    {
     "name": "stdout",
     "output_type": "stream",
     "text": [
      "Better model found at epoch 0 with valid_loss value: 202.08277893066406.\n",
      "Better model found at epoch 1 with valid_loss value: 172.51736450195312.\n",
      "Better model found at epoch 2 with valid_loss value: 164.4250946044922.\n",
      "Better model found at epoch 3 with valid_loss value: 161.84149169921875.\n",
      "Better model found at epoch 4 with valid_loss value: 155.43392944335938.\n",
      "Better model found at epoch 5 with valid_loss value: 147.90049743652344.\n",
      "Better model found at epoch 6 with valid_loss value: 144.85423278808594.\n",
      "Better model found at epoch 9 with valid_loss value: 144.5970916748047.\n",
      "No improvement since epoch 9: early stopping\n"
     ]
    },
    {
     "data": {
      "text/html": [
       "\n",
       "<style>\n",
       "    /* Turns off some styling */\n",
       "    progress {\n",
       "        /* gets rid of default border in Firefox and Opera. */\n",
       "        border: none;\n",
       "        /* Needs to be in here for Safari polyfill so background images work as expected. */\n",
       "        background-size: auto;\n",
       "    }\n",
       "    .progress-bar-interrupted, .progress-bar-interrupted::-webkit-progress-bar {\n",
       "        background: #F44336;\n",
       "    }\n",
       "</style>\n"
      ],
      "text/plain": [
       "<IPython.core.display.HTML object>"
      ]
     },
     "metadata": {},
     "output_type": "display_data"
    },
    {
     "data": {
      "text/html": [
       "<table border=\"1\" class=\"dataframe\">\n",
       "  <thead>\n",
       "    <tr style=\"text-align: left;\">\n",
       "      <th>epoch</th>\n",
       "      <th>train_loss</th>\n",
       "      <th>valid_loss</th>\n",
       "      <th>perplexity</th>\n",
       "      <th>wer</th>\n",
       "      <th>time</th>\n",
       "    </tr>\n",
       "  </thead>\n",
       "  <tbody>\n",
       "    <tr>\n",
       "      <td>0</td>\n",
       "      <td>136.040100</td>\n",
       "      <td>150.449020</td>\n",
       "      <td>inf</td>\n",
       "      <td>0.467810</td>\n",
       "      <td>03:16</td>\n",
       "    </tr>\n",
       "    <tr>\n",
       "      <td>1</td>\n",
       "      <td>110.261246</td>\n",
       "      <td>154.992493</td>\n",
       "      <td>inf</td>\n",
       "      <td>0.469043</td>\n",
       "      <td>03:17</td>\n",
       "    </tr>\n",
       "    <tr>\n",
       "      <td>2</td>\n",
       "      <td>106.218063</td>\n",
       "      <td>156.131042</td>\n",
       "      <td>inf</td>\n",
       "      <td>0.446609</td>\n",
       "      <td>03:15</td>\n",
       "    </tr>\n",
       "    <tr>\n",
       "      <td>3</td>\n",
       "      <td>93.387985</td>\n",
       "      <td>153.925964</td>\n",
       "      <td>inf</td>\n",
       "      <td>0.452413</td>\n",
       "      <td>03:16</td>\n",
       "    </tr>\n",
       "    <tr>\n",
       "      <td>4</td>\n",
       "      <td>108.378731</td>\n",
       "      <td>164.069565</td>\n",
       "      <td>inf</td>\n",
       "      <td>0.463365</td>\n",
       "      <td>03:16</td>\n",
       "    </tr>\n",
       "    <tr>\n",
       "      <td>5</td>\n",
       "      <td>103.795944</td>\n",
       "      <td>159.588501</td>\n",
       "      <td>inf</td>\n",
       "      <td>0.464202</td>\n",
       "      <td>03:17</td>\n",
       "    </tr>\n",
       "    <tr>\n",
       "      <td>6</td>\n",
       "      <td>88.529099</td>\n",
       "      <td>151.630447</td>\n",
       "      <td>inf</td>\n",
       "      <td>0.455235</td>\n",
       "      <td>03:17</td>\n",
       "    </tr>\n",
       "    <tr>\n",
       "      <td>7</td>\n",
       "      <td>91.642517</td>\n",
       "      <td>149.165527</td>\n",
       "      <td>inf</td>\n",
       "      <td>0.441046</td>\n",
       "      <td>03:16</td>\n",
       "    </tr>\n",
       "    <tr>\n",
       "      <td>8</td>\n",
       "      <td>85.354721</td>\n",
       "      <td>150.881882</td>\n",
       "      <td>inf</td>\n",
       "      <td>0.440043</td>\n",
       "      <td>03:16</td>\n",
       "    </tr>\n",
       "    <tr>\n",
       "      <td>9</td>\n",
       "      <td>81.406738</td>\n",
       "      <td>171.323380</td>\n",
       "      <td>inf</td>\n",
       "      <td>0.447527</td>\n",
       "      <td>03:15</td>\n",
       "    </tr>\n",
       "    <tr>\n",
       "      <td>10</td>\n",
       "      <td>85.463661</td>\n",
       "      <td>168.193726</td>\n",
       "      <td>inf</td>\n",
       "      <td>0.452775</td>\n",
       "      <td>03:17</td>\n",
       "    </tr>\n",
       "    <tr>\n",
       "      <td>11</td>\n",
       "      <td>79.242874</td>\n",
       "      <td>172.842072</td>\n",
       "      <td>inf</td>\n",
       "      <td>0.456219</td>\n",
       "      <td>03:16</td>\n",
       "    </tr>\n",
       "    <tr>\n",
       "      <td>12</td>\n",
       "      <td>69.013107</td>\n",
       "      <td>170.970169</td>\n",
       "      <td>inf</td>\n",
       "      <td>0.446291</td>\n",
       "      <td>03:15</td>\n",
       "    </tr>\n",
       "    <tr>\n",
       "      <td>13</td>\n",
       "      <td>67.402267</td>\n",
       "      <td>165.433365</td>\n",
       "      <td>inf</td>\n",
       "      <td>0.435655</td>\n",
       "      <td>03:16</td>\n",
       "    </tr>\n",
       "    <tr>\n",
       "      <td>14</td>\n",
       "      <td>68.542740</td>\n",
       "      <td>171.838928</td>\n",
       "      <td>inf</td>\n",
       "      <td>0.440656</td>\n",
       "      <td>03:15</td>\n",
       "    </tr>\n",
       "    <tr>\n",
       "      <td>15</td>\n",
       "      <td>67.319550</td>\n",
       "      <td>186.574310</td>\n",
       "      <td>inf</td>\n",
       "      <td>0.451885</td>\n",
       "      <td>03:16</td>\n",
       "    </tr>\n",
       "    <tr>\n",
       "      <td>16</td>\n",
       "      <td>62.510590</td>\n",
       "      <td>179.375488</td>\n",
       "      <td>inf</td>\n",
       "      <td>0.442926</td>\n",
       "      <td>03:15</td>\n",
       "    </tr>\n",
       "    <tr>\n",
       "      <td>17</td>\n",
       "      <td>64.673889</td>\n",
       "      <td>176.968185</td>\n",
       "      <td>inf</td>\n",
       "      <td>0.454003</td>\n",
       "      <td>03:14</td>\n",
       "    </tr>\n",
       "  </tbody>\n",
       "</table>"
      ],
      "text/plain": [
       "<IPython.core.display.HTML object>"
      ]
     },
     "metadata": {},
     "output_type": "display_data"
    },
    {
     "name": "stdout",
     "output_type": "stream",
     "text": [
      "Better model found at epoch 0 with valid_loss value: 150.4490203857422.\n",
      "Better model found at epoch 7 with valid_loss value: 149.16552734375.\n",
      "No improvement since epoch 7: early stopping\n"
     ]
    }
   ],
   "source": [
    "learn.fine_tune(100, 2e-4, 50)"
   ]
  },
  {
   "cell_type": "code",
   "execution_count": null,
   "metadata": {
    "colab": {
     "base_uri": "https://localhost:8080/",
     "height": 340
    },
    "id": "EHVfT48abm62",
    "outputId": "c1f7c30b-54fd-40dd-ff21-9e6c157f7f33"
   },
   "outputs": [
    {
     "data": {
      "text/html": [
       "\n",
       "<style>\n",
       "    /* Turns off some styling */\n",
       "    progress {\n",
       "        /* gets rid of default border in Firefox and Opera. */\n",
       "        border: none;\n",
       "        /* Needs to be in here for Safari polyfill so background images work as expected. */\n",
       "        background-size: auto;\n",
       "    }\n",
       "    .progress-bar-interrupted, .progress-bar-interrupted::-webkit-progress-bar {\n",
       "        background: #F44336;\n",
       "    }\n",
       "</style>\n"
      ],
      "text/plain": [
       "<IPython.core.display.HTML object>"
      ]
     },
     "metadata": {},
     "output_type": "display_data"
    },
    {
     "data": {
      "text/html": [],
      "text/plain": [
       "<IPython.core.display.HTML object>"
      ]
     },
     "metadata": {},
     "output_type": "display_data"
    },
    {
     "name": "stderr",
     "output_type": "stream",
     "text": [
      "/usr/local/lib/python3.7/dist-packages/torch/_tensor.py:1051: UserWarning: __floordiv__ is deprecated, and its behavior will change in a future version of pytorch. It currently rounds toward 0 (like the 'trunc' function NOT 'floor'). This results in incorrect rounding for negative values. To keep the current behavior, use torch.div(a, b, rounding_mode='trunc'), or for actual floor division, use torch.div(a, b, rounding_mode='floor').\n",
      "  ret = func(*args, **kwargs)\n"
     ]
    },
    {
     "data": {
      "image/png": "[encoded data removed]",
      "text/plain": [
       "<Figure size 432x288 with 1 Axes>"
      ]
     },
     "metadata": {
      "needs_background": "light"
     },
     "output_type": "display_data"
    }
   ],
   "source": [
    "start_lr=1e-7\n",
    "end_lr=10\n",
    "r = learn.lr_find(start_lr=start_lr, end_lr=end_lr, num_it=100, stop_div=True, suggest_funcs=())"
   ]
  },
  {
   "cell_type": "code",
   "execution_count": null,
   "metadata": {
    "colab": {
     "base_uri": "https://localhost:8080/",
     "height": 183
    },
    "id": "ft629d2E9fuv",
    "outputId": "42789299-10c3-4f60-e44f-40d108099c31"
   },
   "outputs": [
    {
     "data": {
      "text/html": [
       "\n",
       "<style>\n",
       "    /* Turns off some styling */\n",
       "    progress {\n",
       "        /* gets rid of default border in Firefox and Opera. */\n",
       "        border: none;\n",
       "        /* Needs to be in here for Safari polyfill so background images work as expected. */\n",
       "        background-size: auto;\n",
       "    }\n",
       "    .progress-bar-interrupted, .progress-bar-interrupted::-webkit-progress-bar {\n",
       "        background: #F44336;\n",
       "    }\n",
       "</style>\n"
      ],
      "text/plain": [
       "<IPython.core.display.HTML object>"
      ]
     },
     "metadata": {},
     "output_type": "display_data"
    },
    {
     "data": {
      "text/html": [
       "\n",
       "    <div>\n",
       "      <progress value='1' class='' max='5' style='width:300px; height:20px; vertical-align: middle;'></progress>\n",
       "      20.00% [1/5 03:37<14:29]\n",
       "    </div>\n",
       "    \n",
       "<table border=\"1\" class=\"dataframe\">\n",
       "  <thead>\n",
       "    <tr style=\"text-align: left;\">\n",
       "      <th>epoch</th>\n",
       "      <th>train_loss</th>\n",
       "      <th>valid_loss</th>\n",
       "      <th>perplexity</th>\n",
       "      <th>wer</th>\n",
       "      <th>time</th>\n",
       "    </tr>\n",
       "  </thead>\n",
       "  <tbody>\n",
       "    <tr>\n",
       "      <td>0</td>\n",
       "      <td>nan</td>\n",
       "      <td>nan</td>\n",
       "      <td>nan</td>\n",
       "      <td>1.000000</td>\n",
       "      <td>03:37</td>\n",
       "    </tr>\n",
       "  </tbody>\n",
       "</table><p>\n",
       "\n",
       "    <div>\n",
       "      <progress value='330' class='' max='685' style='width:300px; height:20px; vertical-align: middle;'></progress>\n",
       "      48.18% [330/685 01:32<01:39 nan]\n",
       "    </div>\n",
       "    "
      ],
      "text/plain": [
       "<IPython.core.display.HTML object>"
      ]
     },
     "metadata": {},
     "output_type": "display_data"
    },
    {
     "name": "stderr",
     "output_type": "stream",
     "text": [
      "/usr/local/lib/python3.7/dist-packages/torch/_tensor.py:1051: UserWarning: __floordiv__ is deprecated, and its behavior will change in a future version of pytorch. It currently rounds toward 0 (like the 'trunc' function NOT 'floor'). This results in incorrect rounding for negative values. To keep the current behavior, use torch.div(a, b, rounding_mode='trunc'), or for actual floor division, use torch.div(a, b, rounding_mode='floor').\n",
      "  ret = func(*args, **kwargs)\n"
     ]
    }
   ],
   "source": [
    "learn.fine_tune(10, 3e-4, freeze_epochs=5)"
   ]
  },
  {
   "cell_type": "code",
   "execution_count": null,
   "metadata": {
    "colab": {
     "base_uri": "https://localhost:8080/",
     "height": 124,
     "referenced_widgets": [
      "2bc422242e5d42c3bd7543686f0e21d9",
      "514b819449754d70bcc0772ca8e3288e",
      "f4c315bea7f743499be14d367e9b43f6",
      "38cd28937c32432985fe41c520b4465d",
      "2a73f6119d4444528b99777ed4ad49f1",
      "ff3ff33ad278474699f3f6d4b8d0af8d",
      "b096f9620b4d4d3db7aadb9c86292be3",
      "b0026e96fb7b49468d6134829750a920",
      "5e96693e15214da6ad004a2ce458024d",
      "207f339edbfe4fd7bb2309faa3ce655b",
      "9faccc577ace420280df27fdd349188a"
     ]
    },
    "id": "VdjGGhrVNHc5",
    "outputId": "530083a6-0f21-47ea-d425-a29ca21e0376"
   },
   "outputs": [
    {
     "name": "stderr",
     "output_type": "stream",
     "text": [
      "Reusing dataset librispeech_asr (/root/.cache/huggingface/datasets/librispeech_asr/clean/2.1.0/f58a17d82b157feddbc407342a657fee7389b87c33d8331312edf7a604392896)\n",
      "Loading cached processed dataset at /root/.cache/huggingface/datasets/librispeech_asr/clean/2.1.0/f58a17d82b157feddbc407342a657fee7389b87c33d8331312edf7a604392896/cache-51d64dc0006a1d73.arrow\n"
     ]
    },
    {
     "data": {
      "application/vnd.jupyter.widget-view+json": {
       "model_id": "2bc422242e5d42c3bd7543686f0e21d9",
       "version_major": 2,
       "version_minor": 0
      },
      "text/plain": [
       "  0%|          | 0/2620 [00:00<?, ?ba/s]"
      ]
     },
     "metadata": {},
     "output_type": "display_data"
    },
    {
     "name": "stdout",
     "output_type": "stream",
     "text": [
      "WER: 0.02076993304930006\n"
     ]
    }
   ],
   "source": [
    "from datasets import load_dataset\n",
    "import soundfile as sf\n",
    "\n",
    "librispeech_eval = load_dataset(\"librispeech_asr\", \"clean\", split=\"test\")\n",
    "\n",
    "def map_to_array(batch):\n",
    "    speech, _ = sf.read(batch[\"file\"])\n",
    "    batch[\"speech\"] = speech\n",
    "    return batch\n",
    "\n",
    "librispeech_eval = librispeech_eval.map(map_to_array)\n",
    "\n",
    "def map_to_pred(batch):\n",
    "    input_values = processor(batch[\"speech\"], return_tensors=\"pt\", padding=\"longest\", sampling_rate=16000).input_values\n",
    "    with torch.no_grad():\n",
    "        logits = model(input_values.to(\"cuda\")).logits\n",
    "    predicted_ids = torch.argmax(logits, dim=-1)\n",
    "    transcription = processor.batch_decode(predicted_ids)\n",
    "    batch[\"transcription\"] = transcription\n",
    "    return batch\n",
    "result = librispeech_eval.map(map_to_pred, batched=True, batch_size=1, remove_columns=[\"speech\"])\n",
    "print(\"WER:\", wer_metric.compute(references=result[\"text\"],\n",
    "                                  predictions=result[\"transcription\"]))"
   ]
  }
 ],
 "metadata": {
  "accelerator": "GPU",
  "colab": {
   "background_execution": "on",
   "collapsed_sections": [],
   "machine_shape": "hm",
   "name": "transformers_fastai.ipynb",
   "provenance": []
  },
  "kernelspec": {
   "display_name": "itps-env",
   "language": "python",
   "name": "itps-env"
  },
  "language_info": {
   "codemirror_mode": {
    "name": "ipython",
    "version": 3
   },
   "file_extension": ".py",
   "mimetype": "text/x-python",
   "name": "python",
   "nbconvert_exporter": "python",
   "pygments_lexer": "ipython3",
   "version": "3.7.12"
  },
  "widgets": {
   "application/vnd.jupyter.widget-state+json": {
    "207f339edbfe4fd7bb2309faa3ce655b": {
     "model_module": "@jupyter-widgets/base",
     "model_module_version": "1.2.0",
     "model_name": "LayoutModel",
     "state": {
      "_model_module": "@jupyter-widgets/base",
      "_model_module_version": "1.2.0",
      "_model_name": "LayoutModel",
      "_view_count": null,
      "_view_module": "@jupyter-widgets/base",
      "_view_module_version": "1.2.0",
      "_view_name": "LayoutView",
      "align_content": null,
      "align_items": null,
      "align_self": null,
      "border": null,
      "bottom": null,
      "display": null,
      "flex": null,
      "flex_flow": null,
      "grid_area": null,
      "grid_auto_columns": null,
      "grid_auto_flow": null,
      "grid_auto_rows": null,
      "grid_column": null,
      "grid_gap": null,
      "grid_row": null,
      "grid_template_areas": null,
      "grid_template_columns": null,
      "grid_template_rows": null,
      "height": null,
      "justify_content": null,
      "justify_items": null,
      "left": null,
      "margin": null,
      "max_height": null,
      "max_width": null,
      "min_height": null,
      "min_width": null,
      "object_fit": null,
      "object_position": null,
      "order": null,
      "overflow": null,
      "overflow_x": null,
      "overflow_y": null,
      "padding": null,
      "right": null,
      "top": null,
      "visibility": null,
      "width": null
     }
    },
    "2a73f6119d4444528b99777ed4ad49f1": {
     "model_module": "@jupyter-widgets/base",
     "model_module_version": "1.2.0",
     "model_name": "LayoutModel",
     "state": {
      "_model_module": "@jupyter-widgets/base",
      "_model_module_version": "1.2.0",
      "_model_name": "LayoutModel",
      "_view_count": null,
      "_view_module": "@jupyter-widgets/base",
      "_view_module_version": "1.2.0",
      "_view_name": "LayoutView",
      "align_content": null,
      "align_items": null,
      "align_self": null,
      "border": null,
      "bottom": null,
      "display": null,
      "flex": null,
      "flex_flow": null,
      "grid_area": null,
      "grid_auto_columns": null,
      "grid_auto_flow": null,
      "grid_auto_rows": null,
      "grid_column": null,
      "grid_gap": null,
      "grid_row": null,
      "grid_template_areas": null,
      "grid_template_columns": null,
      "grid_template_rows": null,
      "height": null,
      "justify_content": null,
      "justify_items": null,
      "left": null,
      "margin": null,
      "max_height": null,
      "max_width": null,
      "min_height": null,
      "min_width": null,
      "object_fit": null,
      "object_position": null,
      "order": null,
      "overflow": null,
      "overflow_x": null,
      "overflow_y": null,
      "padding": null,
      "right": null,
      "top": null,
      "visibility": null,
      "width": null
     }
    },
    "2bc422242e5d42c3bd7543686f0e21d9": {
     "model_module": "@jupyter-widgets/controls",
     "model_module_version": "1.5.0",
     "model_name": "HBoxModel",
     "state": {
      "_dom_classes": [],
      "_model_module": "@jupyter-widgets/controls",
      "_model_module_version": "1.5.0",
      "_model_name": "HBoxModel",
      "_view_count": null,
      "_view_module": "@jupyter-widgets/controls",
      "_view_module_version": "1.5.0",
      "_view_name": "HBoxView",
      "box_style": "",
      "children": [
       "IPY_MODEL_514b819449754d70bcc0772ca8e3288e",
       "IPY_MODEL_f4c315bea7f743499be14d367e9b43f6",
       "IPY_MODEL_38cd28937c32432985fe41c520b4465d"
      ],
      "layout": "IPY_MODEL_2a73f6119d4444528b99777ed4ad49f1"
     }
    },
    "38cd28937c32432985fe41c520b4465d": {
     "model_module": "@jupyter-widgets/controls",
     "model_module_version": "1.5.0",
     "model_name": "HTMLModel",
     "state": {
      "_dom_classes": [],
      "_model_module": "@jupyter-widgets/controls",
      "_model_module_version": "1.5.0",
      "_model_name": "HTMLModel",
      "_view_count": null,
      "_view_module": "@jupyter-widgets/controls",
      "_view_module_version": "1.5.0",
      "_view_name": "HTMLView",
      "description": "",
      "description_tooltip": null,
      "layout": "IPY_MODEL_207f339edbfe4fd7bb2309faa3ce655b",
      "placeholder": "​",
      "style": "IPY_MODEL_9faccc577ace420280df27fdd349188a",
      "value": " 2620/2620 [04:48&lt;00:00,  6.00ba/s]"
     }
    },
    "514b819449754d70bcc0772ca8e3288e": {
     "model_module": "@jupyter-widgets/controls",
     "model_module_version": "1.5.0",
     "model_name": "HTMLModel",
     "state": {
      "_dom_classes": [],
      "_model_module": "@jupyter-widgets/controls",
      "_model_module_version": "1.5.0",
      "_model_name": "HTMLModel",
      "_view_count": null,
      "_view_module": "@jupyter-widgets/controls",
      "_view_module_version": "1.5.0",
      "_view_name": "HTMLView",
      "description": "",
      "description_tooltip": null,
      "layout": "IPY_MODEL_ff3ff33ad278474699f3f6d4b8d0af8d",
      "placeholder": "​",
      "style": "IPY_MODEL_b096f9620b4d4d3db7aadb9c86292be3",
      "value": "100%"
     }
    },
    "5e96693e15214da6ad004a2ce458024d": {
     "model_module": "@jupyter-widgets/controls",
     "model_module_version": "1.5.0",
     "model_name": "ProgressStyleModel",
     "state": {
      "_model_module": "@jupyter-widgets/controls",
      "_model_module_version": "1.5.0",
      "_model_name": "ProgressStyleModel",
      "_view_count": null,
      "_view_module": "@jupyter-widgets/base",
      "_view_module_version": "1.2.0",
      "_view_name": "StyleView",
      "bar_color": null,
      "description_width": ""
     }
    },
    "9faccc577ace420280df27fdd349188a": {
     "model_module": "@jupyter-widgets/controls",
     "model_module_version": "1.5.0",
     "model_name": "DescriptionStyleModel",
     "state": {
      "_model_module": "@jupyter-widgets/controls",
      "_model_module_version": "1.5.0",
      "_model_name": "DescriptionStyleModel",
      "_view_count": null,
      "_view_module": "@jupyter-widgets/base",
      "_view_module_version": "1.2.0",
      "_view_name": "StyleView",
      "description_width": ""
     }
    },
    "b0026e96fb7b49468d6134829750a920": {
     "model_module": "@jupyter-widgets/base",
     "model_module_version": "1.2.0",
     "model_name": "LayoutModel",
     "state": {
      "_model_module": "@jupyter-widgets/base",
      "_model_module_version": "1.2.0",
      "_model_name": "LayoutModel",
      "_view_count": null,
      "_view_module": "@jupyter-widgets/base",
      "_view_module_version": "1.2.0",
      "_view_name": "LayoutView",
      "align_content": null,
      "align_items": null,
      "align_self": null,
      "border": null,
      "bottom": null,
      "display": null,
      "flex": null,
      "flex_flow": null,
      "grid_area": null,
      "grid_auto_columns": null,
      "grid_auto_flow": null,
      "grid_auto_rows": null,
      "grid_column": null,
      "grid_gap": null,
      "grid_row": null,
      "grid_template_areas": null,
      "grid_template_columns": null,
      "grid_template_rows": null,
      "height": null,
      "justify_content": null,
      "justify_items": null,
      "left": null,
      "margin": null,
      "max_height": null,
      "max_width": null,
      "min_height": null,
      "min_width": null,
      "object_fit": null,
      "object_position": null,
      "order": null,
      "overflow": null,
      "overflow_x": null,
      "overflow_y": null,
      "padding": null,
      "right": null,
      "top": null,
      "visibility": null,
      "width": null
     }
    },
    "b096f9620b4d4d3db7aadb9c86292be3": {
     "model_module": "@jupyter-widgets/controls",
     "model_module_version": "1.5.0",
     "model_name": "DescriptionStyleModel",
     "state": {
      "_model_module": "@jupyter-widgets/controls",
      "_model_module_version": "1.5.0",
      "_model_name": "DescriptionStyleModel",
      "_view_count": null,
      "_view_module": "@jupyter-widgets/base",
      "_view_module_version": "1.2.0",
      "_view_name": "StyleView",
      "description_width": ""
     }
    },
    "f4c315bea7f743499be14d367e9b43f6": {
     "model_module": "@jupyter-widgets/controls",
     "model_module_version": "1.5.0",
     "model_name": "FloatProgressModel",
     "state": {
      "_dom_classes": [],
      "_model_module": "@jupyter-widgets/controls",
      "_model_module_version": "1.5.0",
      "_model_name": "FloatProgressModel",
      "_view_count": null,
      "_view_module": "@jupyter-widgets/controls",
      "_view_module_version": "1.5.0",
      "_view_name": "ProgressView",
      "bar_style": "success",
      "description": "",
      "description_tooltip": null,
      "layout": "IPY_MODEL_b0026e96fb7b49468d6134829750a920",
      "max": 2620,
      "min": 0,
      "orientation": "horizontal",
      "style": "IPY_MODEL_5e96693e15214da6ad004a2ce458024d",
      "value": 2620
     }
    },
    "ff3ff33ad278474699f3f6d4b8d0af8d": {
     "model_module": "@jupyter-widgets/base",
     "model_module_version": "1.2.0",
     "model_name": "LayoutModel",
     "state": {
      "_model_module": "@jupyter-widgets/base",
      "_model_module_version": "1.2.0",
      "_model_name": "LayoutModel",
      "_view_count": null,
      "_view_module": "@jupyter-widgets/base",
      "_view_module_version": "1.2.0",
      "_view_name": "LayoutView",
      "align_content": null,
      "align_items": null,
      "align_self": null,
      "border": null,
      "bottom": null,
      "display": null,
      "flex": null,
      "flex_flow": null,
      "grid_area": null,
      "grid_auto_columns": null,
      "grid_auto_flow": null,
      "grid_auto_rows": null,
      "grid_column": null,
      "grid_gap": null,
      "grid_row": null,
      "grid_template_areas": null,
      "grid_template_columns": null,
      "grid_template_rows": null,
      "height": null,
      "justify_content": null,
      "justify_items": null,
      "left": null,
      "margin": null,
      "max_height": null,
      "max_width": null,
      "min_height": null,
      "min_width": null,
      "object_fit": null,
      "object_position": null,
      "order": null,
      "overflow": null,
      "overflow_x": null,
      "overflow_y": null,
      "padding": null,
      "right": null,
      "top": null,
      "visibility": null,
      "width": null
     }
    }
   }
  }
 },
 "nbformat": 4,
 "nbformat_minor": 4
}
